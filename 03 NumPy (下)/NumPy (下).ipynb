{
 "cells": [
  {
   "cell_type": "markdown",
   "metadata": {},
   "source": [
    "# 盘一盘 Python 系列 2 - NumPy (下)\n",
    "\n",
    "\n",
    ">*by* 马川整理  *燕山大学*\n",
    "\n",
    ">原创： 王圣元 王的机器 2019-04-01\n",
    "\n",
    ">**本人将王圣元的公众号([王的机器](https://mp.weixin.qq.com/s/Fo-UIGnsoU2nBVLxSw_nVw))文章转录为ipynb文档，并据本课程所需有所增删**"
   ]
  },
  {
   "cell_type": "markdown",
   "metadata": {},
   "source": [
    "接着上篇继续后面两个章节，**数组变形**和**数组计算**。\n",
    "\n",
    "**提纲：**\n",
    "\n",
    "![](images/提纲.png)"
   ]
  },
  {
   "cell_type": "markdown",
   "metadata": {},
   "source": [
    "## 4 数组的变形\n",
    "\n",
    "本节介绍**四大类**数组层面上的操作，具体有\n",
    "\n",
    "1. 重塑 (reshape) 和打平 (ravel, flatten)\n",
    "\n",
    "2. 合并 (concatenate, stack) 和分裂 (split)\n",
    "\n",
    "3. 重复 (repeat) 和拼接 (tile)\n",
    "\n",
    "4. 其他操作 (sort, insert, delete, copy)\n",
    "\n",
    "### 4.1 重塑和打平\n",
    "\n",
    "重塑 (reshape) 和打平 (ravel, flatten) 这两个操作仅仅只改变数组的维度\n",
    "\n",
    "* 重塑是**从低维到高维**\n",
    "\n",
    "* 打平是**从高维到低维**\n",
    "\n",
    "#### 重塑\n",
    "\n",
    "用reshape()函数将一维数组 arr 重塑成二维数组。"
   ]
  },
  {
   "cell_type": "code",
   "execution_count": null,
   "metadata": {},
   "outputs": [],
   "source": [
    "import numpy as np\n",
    "\n",
    "arr = np.arange(12)\n",
    "print( arr )\n",
    "print( arr.reshape((4,3)) )"
   ]
  },
  {
   "cell_type": "markdown",
   "metadata": {},
   "source": [
    "当你重塑高维矩阵时，不想花时间算某一维度的元素个数时，可以用「-1」取代，程序会自动帮你计算出来。比如把 12 个元素重塑成 (2, 6)，你可以写成 (2,-1) 或者 (-1, 6)。\n"
   ]
  },
  {
   "cell_type": "code",
   "execution_count": null,
   "metadata": {},
   "outputs": [],
   "source": [
    "print( arr.reshape((2,-1)) )\n",
    "print( arr.reshape((-1,6)) )"
   ]
  },
  {
   "cell_type": "markdown",
   "metadata": {},
   "source": [
    "#### 打平\n",
    "\n",
    "用 ravel() 或flatten() 函数将二维数组 arr 打平成一维数组。"
   ]
  },
  {
   "cell_type": "code",
   "execution_count": null,
   "metadata": {},
   "outputs": [],
   "source": [
    "arr = np.arange(12).reshape((4,3))\n",
    "print( arr )\n",
    "\n",
    "ravel_arr = arr.ravel()\n",
    "print( ravel_arr )\n",
    "\n",
    "flatten_arr = arr.flatten()\n",
    "print( flatten_arr )"
   ]
  },
  {
   "cell_type": "markdown",
   "metadata": {},
   "source": [
    "### 4.2 合并和分裂\n",
    "\n",
    "合并 (concatenate, stack) 和分裂 (split) 这两个操作仅仅只改变数组的分合\n",
    "\n",
    "* 合并是多合一\n",
    "\n",
    "* 分裂是一分多\n",
    "\n",
    "#### 合并\n",
    "\n",
    "使用「合并」函数有两种选择\n",
    "\n",
    "1. 有通用的 concatenate\n",
    "\n",
    "2. 有专门的 vstack, hstack, dstack\n",
    "\n",
    "用下面两个数组来举例："
   ]
  },
  {
   "cell_type": "code",
   "execution_count": null,
   "metadata": {},
   "outputs": [],
   "source": [
    "arr1 = np.array([[1, 2, 3], [4, 5, 6]])\n",
    "arr2 = np.array([[7, 8, 9], [10, 11, 12]])"
   ]
  },
  {
   "cell_type": "markdown",
   "metadata": {},
   "source": [
    "#### <font color=\"red\"><b>concatenate</b></font>"
   ]
  },
  {
   "cell_type": "code",
   "execution_count": null,
   "metadata": {},
   "outputs": [],
   "source": [
    "np.concatenate([arr1, arr2], axis=0)"
   ]
  },
  {
   "cell_type": "code",
   "execution_count": null,
   "metadata": {},
   "outputs": [],
   "source": [
    "np.concatenate([arr1, arr2], axis=1)"
   ]
  },
  {
   "cell_type": "markdown",
   "metadata": {},
   "source": [
    "在 concatenate() 函数里通过设定轴，来对数组进行竖直方向合并 (轴 0) 和水平方向合并 (轴 1)。 "
   ]
  },
  {
   "cell_type": "markdown",
   "metadata": {},
   "source": [
    "#### <font color=\"red\"><b>vstack, hstack, dstack</b></font>\n",
    "\n",
    "通用的东西是好，但是可能效率不高，NumPy 里还有专门合并的函数\n",
    "\n",
    "* vstack：v 代表 vertical，竖直合并，等价于 concatenate(axis=0)\n",
    "\n",
    "* hstack：h 代表 horizontal，水平合并，等价于 concatenate(axis=1)\n",
    "\n",
    "* dstack：d 代表 depth-wise，按深度合并，深度有点像彩色照片的 RGB 通道\n",
    "\n",
    "一图胜千言：\n",
    "\n",
    "![](images/4-3.png)"
   ]
  },
  {
   "cell_type": "markdown",
   "metadata": {},
   "source": [
    "用代码验证一下："
   ]
  },
  {
   "cell_type": "code",
   "execution_count": null,
   "metadata": {},
   "outputs": [],
   "source": [
    "print( np.vstack((arr1, arr2)) )\n",
    "print( np.hstack((arr1, arr2)) )\n",
    "print( np.dstack((arr1, arr2)) )"
   ]
  },
  {
   "cell_type": "markdown",
   "metadata": {},
   "source": [
    "和 vstack, hstack 不同，dstack 将原数组的维度增加了一维。"
   ]
  },
  {
   "cell_type": "code",
   "execution_count": null,
   "metadata": {},
   "outputs": [],
   "source": [
    "np.dstack((arr1, arr2)).shape"
   ]
  },
  {
   "cell_type": "markdown",
   "metadata": {},
   "source": [
    "#### 分裂\n",
    "\n",
    "使用「分裂」函数有两种选择\n",
    "\n",
    "1. 有通用的 split\n",
    "\n",
    "2. 有专门的 hsplit, vsplit\n",
    "\n",
    "用下面数组来举例："
   ]
  },
  {
   "cell_type": "code",
   "execution_count": null,
   "metadata": {},
   "outputs": [],
   "source": [
    "arr = np.arange(25).reshape((5,5))\n",
    "print( arr )"
   ]
  },
  {
   "cell_type": "markdown",
   "metadata": {},
   "source": [
    "#### <font color=\"red\"><b>split</b></font>\n",
    "\n",
    "和 concatenate() 函数一样，我们可以在 split() 函数里通过设定轴，来对数组沿着竖直方向分裂 (轴 0) 和沿着水平方向分裂 (轴 1)。"
   ]
  },
  {
   "cell_type": "code",
   "execution_count": null,
   "metadata": {},
   "outputs": [],
   "source": [
    "first, second, third = np.split(arr,[1,3])\n",
    "print( 'The first split is', first )\n",
    "print( 'The second split is', second )\n",
    "print( 'The third split is', third )"
   ]
  },
  {
   "cell_type": "markdown",
   "metadata": {},
   "source": [
    "split() 默认沿着轴 0 分裂，其第二个参数 [1, 3] 相当于是个切片操作，将数组分成三部分：\n",
    "\n",
    "* 第一部分 - :1 (即第 1 行)\n",
    "\n",
    "* 第二部分 - 1:3 (即第 2 到 3 行)\n",
    "\n",
    "* 第二部分 - 3:  (即第 4 到 5 行)\n",
    "\n",
    "#### <font color=\"red\"><b>hsplit, vsplit</b></font>\n",
    "\n",
    "vsplit() 和 split(axis=0) 等价，hsplit() 和 split(axis=1) 等价。一图胜千言：\n",
    "\n",
    "![](images/4-5.png)"
   ]
  },
  {
   "cell_type": "markdown",
   "metadata": {},
   "source": [
    "为了和上面不重复，我们只看 hsplit。"
   ]
  },
  {
   "cell_type": "code",
   "execution_count": null,
   "metadata": {},
   "outputs": [],
   "source": [
    "first, second, third = np.hsplit(arr,[1,3])\n",
    "print( 'The first split is', first )\n",
    "print( 'The second split is', second )\n",
    "print( 'The third split is', third )"
   ]
  },
  {
   "cell_type": "markdown",
   "metadata": {},
   "source": [
    "### 4.3 重复和拼接\n",
    "\n",
    "重复 (repeat) 和拼接 (tile) 这两个操作本质都是复制\n",
    "\n",
    "* 重复是在元素层面复制\n",
    "\n",
    "* 拼接是在数组层面复制\n",
    "\n",
    "\n",
    "\n",
    "#### 重复\n",
    "\n",
    "\n",
    "函数 repeat() 复制的是数组的每一个元素，参数有几种设定方法：\n",
    "\n",
    "* 一维数组：用标量和列表来复制元素的个数\n",
    "\n",
    "* 多维数组：用标量和列表来复制元素的个数，用轴来控制复制的行和列\n",
    "\n",
    "<font color=\"red\"><b>标量</b></font>"
   ]
  },
  {
   "cell_type": "code",
   "execution_count": null,
   "metadata": {},
   "outputs": [],
   "source": [
    "arr = np.arange(3)\n",
    "print( arr )\n",
    "print( arr.repeat(3) )"
   ]
  },
  {
   "cell_type": "markdown",
   "metadata": {},
   "source": [
    "标量参数 3 - 数组 arr 中每个元素复制 3 遍。\n",
    "\n",
    "<font color=\"red\"><b>列表</b></font>"
   ]
  },
  {
   "cell_type": "code",
   "execution_count": null,
   "metadata": {},
   "outputs": [],
   "source": [
    "print( arr.repeat([2,3,4]) )"
   ]
  },
  {
   "cell_type": "markdown",
   "metadata": {},
   "source": [
    "列表参数 [2,3,4] - 数组 arr 中每个元素分别复制 2, 3, 4 遍。\n",
    "\n",
    "<font color=\"red\"><b>标量和轴</b></font>"
   ]
  },
  {
   "cell_type": "code",
   "execution_count": null,
   "metadata": {},
   "outputs": [],
   "source": [
    "arr2d = np.arange(6).reshape((2,3))\n",
    "print( arr2d )\n",
    "print( arr2d.repeat(2, axis=0) )"
   ]
  },
  {
   "cell_type": "markdown",
   "metadata": {},
   "source": [
    "标量参数 2 和轴 0 - 数组 arr2d 中每个元素沿着轴 0 复制 2 遍。\n",
    "\n",
    "<font color=\"red\"><b>列表和轴</b></font>"
   ]
  },
  {
   "cell_type": "code",
   "execution_count": null,
   "metadata": {},
   "outputs": [],
   "source": [
    "print( arr2d.repeat([2,3,4], axis=1) )"
   ]
  },
  {
   "cell_type": "markdown",
   "metadata": {},
   "source": [
    "列表参数 [2,3,4] 和轴 1 - 数组 arr2d 中每个元素沿着轴 1 分别复制 2, 3, 4 遍。\n",
    "\n",
    "#### 拼接\n",
    "\n",
    "函数 tile() 复制的是数组本身，参数有几种设定方法：\n",
    "\n",
    "* 标量：把数组当成一个元素，一列一列复制\n",
    "\n",
    "* 形状：把数组当成一个元素，按形状复制\n",
    "\n",
    "<font color=\"red\"><b>标量</b></font>"
   ]
  },
  {
   "cell_type": "code",
   "execution_count": null,
   "metadata": {},
   "outputs": [],
   "source": [
    "arr2d = np.arange(6).reshape((2,3))\n",
    "print( arr2d )\n",
    "print( np.tile(arr2d,2) )"
   ]
  },
  {
   "cell_type": "markdown",
   "metadata": {},
   "source": [
    "标量参数 2 - 数组 arr 按列复制 2 遍。\n",
    "\n",
    "<font color=\"red\"><b>形状</b></font>\n",
    "\n",
    "tile 是瓷砖的意思，顾名思义，这个函数就是把数组像瓷砖一样铺展开来。"
   ]
  },
  {
   "cell_type": "code",
   "execution_count": null,
   "metadata": {},
   "outputs": [],
   "source": [
    "arr2d2 = np.array([[1,2], [3, 4]])\n",
    "print( arr2d2 )"
   ]
  },
  {
   "cell_type": "markdown",
   "metadata": {},
   "source": [
    "**横向**\n",
    "\n",
    "![](images/heng.png)"
   ]
  },
  {
   "cell_type": "code",
   "execution_count": null,
   "metadata": {
    "scrolled": true
   },
   "outputs": [],
   "source": [
    "np.tile(arr2d2, (1,4))    # 与 np.tile(arr2d2, 4) 等价"
   ]
  },
  {
   "cell_type": "markdown",
   "metadata": {},
   "source": [
    "**纵向**\n",
    "\n",
    "![](images/zong.png)"
   ]
  },
  {
   "cell_type": "code",
   "execution_count": null,
   "metadata": {},
   "outputs": [],
   "source": [
    "np.tile(arr2d2, (3,1))"
   ]
  },
  {
   "cell_type": "markdown",
   "metadata": {},
   "source": [
    "**横向+纵向**\n",
    "\n",
    "![](images/zongheng.png)"
   ]
  },
  {
   "cell_type": "code",
   "execution_count": null,
   "metadata": {},
   "outputs": [],
   "source": [
    "print( np.tile(arr2d2, (3,4)) )"
   ]
  },
  {
   "cell_type": "markdown",
   "metadata": {},
   "source": [
    "形状参数 (3,4) - 数组 arr 按形状复制 12 (3×4) 遍，并以 (3,4) 的形式展现。\n",
    "\n",
    "### 4.4 其他操作\n",
    "\n",
    "本节讨论数组的其他操作，包括排序 (sort)，插入 (insert)，删除 (delete) 和复制 (copy)。\n",
    "\n",
    "#### 排序\n",
    "\n",
    "排序包括直接排序 (direct sort) 和间接排序 (indirect sort)。\n",
    "\n",
    "<font color=\"red\"><b>直接排序</b></font>"
   ]
  },
  {
   "cell_type": "code",
   "execution_count": null,
   "metadata": {},
   "outputs": [],
   "source": [
    "arr = np.array([5,3,2,6,1,4])\n",
    "print( 'Before sorting', arr )\n",
    "arr.sort()\n",
    "print( 'After sorting', arr )"
   ]
  },
  {
   "cell_type": "markdown",
   "metadata": {},
   "source": [
    "sort()函数是按升序 (ascending order) 排列的，该函数里没有参数可以控制 order，因此你想要按降序排列的数组，只需"
   ]
  },
  {
   "cell_type": "code",
   "execution_count": null,
   "metadata": {},
   "outputs": [],
   "source": [
    "print( arr[::-1] )"
   ]
  },
  {
   "cell_type": "markdown",
   "metadata": {},
   "source": [
    "现在让人困惑的地方来了。\n",
    "\n",
    "<font color=\"red\"><b>知识点</b></font>\n",
    "\n",
    "用来排序 numpy 用两种方式：\n",
    "\n",
    "1. arr.sort()\n",
    "\n",
    "2. np.sort( arr )\n",
    "\n",
    "第一种 sort 会改变 arr，第二种 sort 在排序时创建了 arr 的一个复制品，不会改变 arr。看下面代码，用一个形状是 (3, 4) 的「二维随机整数」数组来举例，用整数是为了便于读者好观察排序前后的变化："
   ]
  },
  {
   "cell_type": "code",
   "execution_count": null,
   "metadata": {},
   "outputs": [],
   "source": [
    "arr = np.random.randint( 40, size=(3,4) )\n",
    "print( arr )"
   ]
  },
  {
   "cell_type": "markdown",
   "metadata": {},
   "source": [
    "第一种 arr.sort()，对第一列排序，发现 arr 的元素**改变**了。"
   ]
  },
  {
   "cell_type": "code",
   "execution_count": null,
   "metadata": {},
   "outputs": [],
   "source": [
    "arr[:, 0].sort() \n",
    "print( arr )"
   ]
  },
  {
   "cell_type": "markdown",
   "metadata": {},
   "source": [
    "第二种 np.sort(arr)，对第二列排序，但是 arr 的元素**不变**。"
   ]
  },
  {
   "cell_type": "code",
   "execution_count": null,
   "metadata": {},
   "outputs": [],
   "source": [
    "np.sort(arr[:,1])"
   ]
  },
  {
   "cell_type": "code",
   "execution_count": null,
   "metadata": {},
   "outputs": [],
   "source": [
    "print( arr )"
   ]
  },
  {
   "cell_type": "markdown",
   "metadata": {},
   "source": [
    "此外也可以在不同的轴上排序，对于二维数组，在「轴 0」上排序是「跨行」排序，在「轴 1」上排序是「跨列」排序。"
   ]
  },
  {
   "cell_type": "code",
   "execution_count": null,
   "metadata": {},
   "outputs": [],
   "source": [
    "arr.sort(axis=1)\n",
    "print( arr )"
   ]
  },
  {
   "cell_type": "markdown",
   "metadata": {},
   "source": [
    "<font color=\"red\"><b>间接排序</b></font>\n",
    "\n",
    "有时候我们不仅仅只想排序数组，还想在排序过程中<font color=\"red\"><b>提取每个元素在原数组对应的索引</b></font>(index)，这时 argsort() 就派上用场了。以排列下面五个学生的数学分数为例："
   ]
  },
  {
   "cell_type": "code",
   "execution_count": null,
   "metadata": {},
   "outputs": [],
   "source": [
    "score = np.array([100, 60, 99, 80, 91])\n",
    "idx = score.argsort()\n",
    "print( idx )"
   ]
  },
  {
   "cell_type": "markdown",
   "metadata": {},
   "source": [
    "这个 idx = [1 3 4 2 0] 怎么理解呢？很简单，排序完之后分数应该是 [60 80 91 99 100]，\n",
    "\n",
    "* 60，即 score[1] 排在第0位， 因此 idx[0] =1\n",
    "\n",
    "* 80，即 score[3] 排在第1 位， 因此 idx[1] =3\n",
    "\n",
    "* 91，即 score[4] 排在第2 位， 因此 idx[2] =4\n",
    "\n",
    "* 99，即 score[2] 排在第3 位， 因此 idx[3] =2\n",
    "\n",
    "* 100，即 score[0] 排在第4 位， 因此 idx[4] =0\n",
    "\n",
    "用这个 idx 对 score 做一个「花式索引」得到 (还记得上贴的内容吗？)"
   ]
  },
  {
   "cell_type": "code",
   "execution_count": null,
   "metadata": {},
   "outputs": [],
   "source": [
    "print( score[idx] )"
   ]
  },
  {
   "cell_type": "markdown",
   "metadata": {},
   "source": [
    "再看一个二维数组的例子。"
   ]
  },
  {
   "cell_type": "code",
   "execution_count": null,
   "metadata": {},
   "outputs": [],
   "source": [
    "arr = np.random.randint( 40, size=(3,4) )\n",
    "print( arr )"
   ]
  },
  {
   "cell_type": "markdown",
   "metadata": {},
   "source": [
    "对其第一行 arr[0] 排序，获取索引，在应用到所用行上。"
   ]
  },
  {
   "cell_type": "code",
   "execution_count": null,
   "metadata": {},
   "outputs": [],
   "source": [
    "arr[:, arr[0].argsort()]"
   ]
  },
  {
   "cell_type": "markdown",
   "metadata": {},
   "source": [
    "这不就是「花式索引」吗？来我们分解一下以上代码，先看看索引。"
   ]
  },
  {
   "cell_type": "code",
   "execution_count": null,
   "metadata": {},
   "outputs": [],
   "source": [
    "print( arr[0].argsort() )"
   ]
  },
  {
   "cell_type": "markdown",
   "metadata": {},
   "source": [
    "「花式索引」来了，结果和上面一样的。"
   ]
  },
  {
   "cell_type": "code",
   "execution_count": null,
   "metadata": {},
   "outputs": [],
   "source": [
    "arr[:, [2, 0, 3, 1]]"
   ]
  },
  {
   "cell_type": "markdown",
   "metadata": {},
   "source": [
    "#### 插入和删除\n",
    "\n",
    "和列表一样，我们可以给 numpy 数组\n",
    "\n",
    "* 用insert()函数在某个特定位置之前插入元素\n",
    "\n",
    "* 用delete()函数删除某些特定元素"
   ]
  },
  {
   "cell_type": "code",
   "execution_count": null,
   "metadata": {},
   "outputs": [],
   "source": [
    "a = np.arange(6)\n",
    "print( a )\n",
    "print( np.insert(a, 1, 100) )\n",
    "print( np.delete(a, [1,3]) )"
   ]
  },
  {
   "cell_type": "markdown",
   "metadata": {},
   "source": [
    "#### 复制\n",
    "\n",
    "用copy()函数来复制数组 a 得到 a_copy，很明显，改变 a_copy 里面的元素不会改变 a。"
   ]
  },
  {
   "cell_type": "code",
   "execution_count": null,
   "metadata": {},
   "outputs": [],
   "source": [
    "a = np.arange(6)\n",
    "a_copy = a.copy()\n",
    "print( 'Before changing value, a is', a )\n",
    "print( 'Before changing value, a_copy is', a_copy )\n",
    "a_copy[-1] = 99\n",
    "print( 'After changing value, a_copy is', a_copy )\n",
    "print( 'After changing value, a is', a )"
   ]
  },
  {
   "cell_type": "markdown",
   "metadata": {},
   "source": [
    "## 5数组的计算\n",
    "\n",
    "本节介绍**两大类**数组计算，具体有\n",
    "\n",
    "1. 元素层面 (element-wise) 计算\n",
    "\n",
    "2. 广播机制 (broadcasting) 计算\n",
    "\n",
    "\n",
    "\n",
    "### 5.1 元素层面计算\n",
    "\n",
    "Numpy 数组元素层面计算包括：\n",
    "\n",
    "1. 二元运算 (binary operation)：加减乘除\n",
    "\n",
    "2. 数学函数：倒数、平方、指数、对数\n",
    "\n",
    "3. 比较运算 (comparison)\n",
    "\n",
    "先定义两个数组 arr1 和 arr2。"
   ]
  },
  {
   "cell_type": "code",
   "execution_count": null,
   "metadata": {},
   "outputs": [],
   "source": [
    "arr1 = np.array([[1., 2., 3.], [4., 5., 6.]])\n",
    "arr2 = np.ones((2,3)) * 2\n",
    "print( arr1 )\n",
    "print( arr2 )"
   ]
  },
  {
   "cell_type": "markdown",
   "metadata": {},
   "source": [
    "<font color=\"red\"><b>加、减、乘、除</b></font>"
   ]
  },
  {
   "cell_type": "code",
   "execution_count": null,
   "metadata": {},
   "outputs": [],
   "source": [
    "print( arr1 + arr2 + 1 )\n",
    "print( arr1 - arr2 )\n",
    "print( arr1 * arr2 )\n",
    "print( arr1 / arr2 )"
   ]
  },
  {
   "cell_type": "markdown",
   "metadata": {},
   "source": [
    "<font color=\"red\"><b>倒数、平方、指数、对数</b></font>"
   ]
  },
  {
   "cell_type": "code",
   "execution_count": null,
   "metadata": {},
   "outputs": [],
   "source": [
    "print( 1 / arr1 )\n",
    "print( arr1 ** 2 )\n",
    "print( np.exp(arr1) )\n",
    "print( np.log(arr1) )"
   ]
  },
  {
   "cell_type": "markdown",
   "metadata": {},
   "source": [
    "<font color=\"red\"><b>比较</b></font>"
   ]
  },
  {
   "cell_type": "code",
   "execution_count": null,
   "metadata": {},
   "outputs": [],
   "source": [
    "arr1 > arr2\n",
    "arr1 > 3"
   ]
  },
  {
   "cell_type": "markdown",
   "metadata": {},
   "source": [
    "从上面结果可知\n",
    "\n",
    "* 「数组和数组间的二元运算」都是在元素层面上进行的\n",
    "\n",
    "* 「作用在数组上的数学函数」都是作用在数组的元素层面上的。\n",
    "\n",
    "* 「数组和数组间的比较」都是在元素层面上进行的\n",
    "\n",
    "但是在「数组和标量间的比较」时，python 好像先把 3 复制了和 arr1 形状一样的数组 [[3,3,3], [3,3,3]]，然后再在元素层面上作比较。上述这个复制标量的操作叫做「广播机制」，是 NumPy 里最重要的一个特点，在下一节会详细讲到。"
   ]
  },
  {
   "cell_type": "markdown",
   "metadata": {},
   "source": [
    "### 5.2 广播机制计算"
   ]
  },
  {
   "cell_type": "markdown",
   "metadata": {},
   "source": [
    "#### 广播的引出\n",
    "\n",
    "当两个数组的形状并不相同的时候，我们可以通过扩展数组的方法来实现相加、相减、相乘等操作，这种机制叫做广播（broadcasting）。\n",
    "\n",
    "比如，一个二维数组减去列平均值，来对数组的每一列进行距平化处理："
   ]
  },
  {
   "cell_type": "code",
   "execution_count": null,
   "metadata": {},
   "outputs": [],
   "source": [
    "arr = np.random.randn(4,3)  #shape(4,3)\n",
    "arr_mean = arr.mean(0)      #shape(3,)\n",
    "demeaned = arr -arr_mean\n",
    "\n",
    "print(arr)\n",
    "print(arr_mean)\n",
    "print(demeaned)"
   ]
  },
  {
   "cell_type": "markdown",
   "metadata": {},
   "source": [
    "很明显上式arr和arr_mean维度并不形同，但是它们可以进行相减操作，这就是通过广播机制来实现的。\n",
    "\n",
    "**广播的原则**\n",
    "\n",
    "**如果两个数组的后缘维度（trailing dimension，即从末尾开始算起的维度）的轴长度相符，或其中的一方的长度为1，则认为它们是广播兼容的。广播会在缺失和（或）长度为1的维度上进行。**\n",
    "\n",
    "这句话乃是理解广播的核心。广播主要发生在两种情况，一种是两个数组的维数不相等，但是它们的后缘维度的轴长相符，另外一种是有一方的长度为1。\n",
    "\n",
    "**<font color=\"red\">数组维度不同，后缘维度的轴长相符</font>**\n",
    "\n",
    "我们来看一个例子："
   ]
  },
  {
   "cell_type": "code",
   "execution_count": null,
   "metadata": {},
   "outputs": [],
   "source": [
    "import numpy as np\n",
    "arr1 = np.array([[0, 0, 0],[1, 1, 1],[2, 2, 2], [3, 3, 3]])  #arr1.shape = (4,3)\n",
    "arr2 = np.array([1, 2, 3])    #arr2.shape = (3,)\n",
    "arr_sum = arr1 + arr2\n",
    "print(arr_sum)"
   ]
  },
  {
   "cell_type": "markdown",
   "metadata": {},
   "source": [
    "上例中arr1的shape为（4,3），arr2的shape为（3，）。可以说前者是二维的，而后者是一维的。但是它们的后缘维度相等，arr1的第二维长度为3，和arr2的维度相同。arr1和arr2的shape并不一样，但是它们可以执行相加操作，这就是通过广播完成的，在这个例子当中是将arr2沿着0轴进行扩展。\n",
    "\n",
    "上面程序当中的广播如下图所示(**一维数据在轴0上的广播**):\n",
    "\n",
    "![](images/numpy-bc1.png)"
   ]
  },
  {
   "cell_type": "markdown",
   "metadata": {},
   "source": [
    "同样的例子还有(**三维数据在轴0上的广播**)：\n",
    "\n",
    "![](images/numpy-bc3.png)\n",
    "\n",
    "从上面的图可以看到，（3,4,2）和（4,2）的维度是不相同的，前者为3维，后者为2维。但是它们后缘维度的轴长相同，都为（4,2），所以可以沿着0轴进行广播。\n",
    "\n",
    "同样，还有一些例子：（4,2,3）和（2,3）是兼容的，（4,2,3）还和（3）是兼容的，后者需要在两个轴上面进行扩展。\n",
    "\n",
    "**<font color=\"red\">数组维度相同，其中有个轴为1</font>**\n",
    "\n",
    "我们来看下面的例子："
   ]
  },
  {
   "cell_type": "code",
   "execution_count": null,
   "metadata": {},
   "outputs": [],
   "source": [
    "import numpy as np\n",
    "\n",
    "arr1 = np.array([[0, 0, 0],[1, 1, 1],[2, 2, 2], [3, 3, 3]])  #arr1.shape = (4,3)\n",
    "arr2 = np.array([[1],[2],[3],[4]])    #arr2.shape = (4, 1)\n",
    "\n",
    "arr_sum = arr1 + arr2\n",
    "print(arr_sum)"
   ]
  },
  {
   "cell_type": "markdown",
   "metadata": {},
   "source": [
    "arr1的shape为（4,3），arr2的shape为（4,1），它们都是二维的，但是第二个数组在1轴上的长度为1，所以，可以在1轴上面进行广播，如下图所示(**二维数组在轴1上的广播**)：\n",
    "\n",
    "![](images/numpy-bc2.png)"
   ]
  },
  {
   "cell_type": "markdown",
   "metadata": {},
   "source": [
    "在这种情况下，两个数组的维度要保证相等，其中有一个轴的长度为1，这样就会沿着长度为1的轴进行扩展。这样的例子还有：（4,6）和（1,6） 。（3,5,6）和（1,5,6）、（3,1,6）、（3,5,1），后面三个分别会沿着0轴，1轴，2轴进行广播。\n",
    "\n",
    "人们经常需要通过算术运算过程将较低维度的数组在除0轴以外的其他轴向上广播。根据广播的原则，较小数组的“广播维”必须为1。\n",
    "\n",
    "对于三维的情况，在三维中的任何一维上广播其实也就是将数据重塑为兼容的形状而已。下图说明了要在三维数组各维度上广播的形状需求(**能在该三维数组上广播的二维数组的形状**)。\n",
    "\n",
    "![](images/numpy-bc4.png)"
   ]
  },
  {
   "cell_type": "markdown",
   "metadata": {},
   "source": [
    "## 6 总结\n",
    "\n",
    "NumPy 篇终于完结！即上贴讨论过的数组创建、数组存载和数组获取，本贴讨论了数组变形、数组计算。\n",
    "\n",
    "数组变形有以下重要操作：\n",
    "\n",
    "* 改变维度的重塑和打平\n",
    "\n",
    "* 改变分合的合并和分裂\n",
    "\n",
    "* 复制本质的重复和拼接\n",
    "\n",
    "* 其他排序插入删除复制\n",
    "\n",
    "数组计算有以下重要操作：\n",
    "\n",
    "1. 元素层面：四则运算、函数，比较\n",
    "\n",
    "2. 广播机制：太重要了，大量用于科学计算和机器学习中！"
   ]
  },
  {
   "cell_type": "markdown",
   "metadata": {},
   "source": [
    "![结束](./images/end.png)"
   ]
  }
 ],
 "metadata": {
  "kernelspec": {
   "display_name": "Python 3",
   "language": "python",
   "name": "python3"
  },
  "language_info": {
   "codemirror_mode": {
    "name": "ipython",
    "version": 3
   },
   "file_extension": ".py",
   "mimetype": "text/x-python",
   "name": "python",
   "nbconvert_exporter": "python",
   "pygments_lexer": "ipython3",
   "version": "3.7.6"
  },
  "toc": {
   "base_numbering": 1,
   "nav_menu": {},
   "number_sections": true,
   "sideBar": true,
   "skip_h1_title": false,
   "title_cell": "Table of Contents",
   "title_sidebar": "Contents",
   "toc_cell": false,
   "toc_position": {},
   "toc_section_display": true,
   "toc_window_display": false
  }
 },
 "nbformat": 4,
 "nbformat_minor": 2
}
