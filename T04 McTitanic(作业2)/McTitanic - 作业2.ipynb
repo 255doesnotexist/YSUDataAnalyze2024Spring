{
 "cells": [
  {
   "cell_type": "markdown",
   "metadata": {},
   "source": [
    "# 课程项目：Kaggle-Titanic 泰坦尼克号获救问题\n",
    "\n",
    "> by 马川 燕山大学\n",
    "\n",
    "![](images/Titanic.jpg)\n",
    "\n",
    "> 问题设置参考自网络，结合本课程进行了修改和扩充，以期为学生提供一个完整的项目案例。藉练手，贯所学，一窥数据分析之面貌。\n",
    "\n",
    ">**代码胜于雄辩(Talk is cheap.Show me the code)** \n",
    "\n",
    ">               ---- 林纳斯·托瓦兹(Linus Torvalds)\n",
    "\n",
    "> 参考链接：[**Kaggle-Titanic项目:**  https://www.kaggle.com/c/titanic](https://www.kaggle.com/c/titanic)\n",
    "\n",
    "> 参考链接：https://blog.csdn.net/zongzi009/article/details/82391034\n",
    "\n",
    "> 参考链接：https://github.com/massquantity/Kaggle-Titanic\n",
    "\n",
    "> 参考链接：https://tianchi.aliyun.com/notebook-ai/detail?spm=5176.12282042.0.0.1dce2042NBc6J6&postId=6772 "
   ]
  },
  {
   "cell_type": "markdown",
   "metadata": {},
   "source": [
    "本项目数据来源于[kaggle上的Titanic数据集](https://www.kaggle.com/c/titanic/data)，共计1309条数据，其中训练集891条，测试集418条。对泰坦尼克号乘客数据进行分析，**挖掘获救乘客和遇难乘客的数据特点以及与其他因素的相关性，寻找影响乘客生存与否的因素。**\n",
    "\n",
    "**PS**:Kaggle项目还会要求根据训练集构建模型并对测试集中的数据进行预测，但本课程不涉及预测问题。\n",
    "\n",
    "## 1. 问题及思路\n",
    "\n",
    "### 提出问题\n",
    "\n",
    "**1. 整体来看，存活比例如何？**\n",
    "\n",
    "> 要求：\n",
    ">    ① 将train.csv，test.csv和gender_submission.csv合并为titanic.csv\n",
    ">    ② 查看已知存活数据中，存活比例如何？\n",
    "\n",
    "**2. 结合性别和年龄数据，分析幸存下来的人是哪些人？**\n",
    "\n",
    "> 要求：\n",
    ">    ① 年龄数据的分布情况\n",
    ">    ② 男性和女性存活情况\n",
    ">    ③ 老人和小孩存活情况\n",
    "\n",
    "**3. 结合 SibSp、Parch字段，研究亲人多少与存活的关系**\n",
    "\n",
    "> 要求：\n",
    ">    ① 有无兄弟姐妹/父母子女和存活与否的关系\n",
    ">    ② 亲戚多少与存活与否的关系\n",
    "\n",
    "**4. 结合票的费用情况，研究票价和存活与否的关系**\n",
    "\n",
    "> 要求：\n",
    ">    ① 票价分布和存活与否的关系\n",
    ">    ② 比较研究生还者和未生还者的票价情况\n",
    "\n",
    "**5. 称呼与存活与否的关系**\n",
    "\n",
    "> 要求：\n",
    ">    ① 观察不同称呼与生存率的关系\n",
    "\n",
    "\n",
    "### 实现思路\n",
    "\n",
    "1. 计算整体的存活率，深入分析男性和女性的不同年龄段的存活人数和占比，分析性别、年龄和存活率之间的联系；观察不同等级舱和年龄存活率，分析等级舱、年龄和存活率的关系；分析不同年龄存活率的分布来查看老人和儿童存活率。\n",
    "\n",
    "2. 使用饼图来直观展示有父母/亲戚和没有父母/亲戚乘客的存活率有何差异。若有明显差异，可以深入分析亲人的数量对存活率是否有联系。\n",
    "\n",
    "3. 分析所有乘客的票价分布情况，及不同等级舱的票价分布情况，通过观察幸存者和遇难者的票价的平均值或标准差来分析票价与存活率的联系；通过观察不同称呼与生存率的关系，分析社会地位对生存率的影响。\n",
    "\n",
    "## 2. 理解数据\n",
    "\n",
    "从Kaggle平台上下载3个原始数据集：train.csv，test.csv，gender_submission.csv。\n",
    "\n",
    "其中：\n",
    "1. train.csv 为编号为 1-891 共 891 名乘客的信息，作为训练数据；\n",
    "2. test.csv 为编号 892-1309 共 418 名乘客的信息，作为测试数据(删掉了是否生还列 Survived)；\n",
    "3. gender_submission.csv 为 Kaggle 项目需要提交的结果格式以及正确答案(乘客的实际生还情况)。 \n",
    "\n",
    "### 导入相关包"
   ]
  },
  {
   "cell_type": "code",
   "execution_count": null,
   "metadata": {},
   "outputs": [],
   "source": [
    "#导入需要的包\n",
    "import numpy as np\n",
    "import pandas as pd\n",
    "import matplotlib.pyplot as plt\n",
    "%matplotlib inline"
   ]
  },
  {
   "cell_type": "markdown",
   "metadata": {},
   "source": [
    "### 读取数据\n",
    "\n",
    "数据在data文件夹里"
   ]
  },
  {
   "cell_type": "code",
   "execution_count": null,
   "metadata": {},
   "outputs": [],
   "source": []
  },
  {
   "cell_type": "markdown",
   "metadata": {},
   "source": [
    "train存放的是训练数据，test存放的是测试数据,gender_submissione 为 test 中乘客的实际生还情况。\n",
    "\n",
    "**相关字段含义介绍：**\n",
    "\n",
    "* PassengerId : 乘客ID\n",
    "\n",
    "* Survived： 是否生还\n",
    "\n",
    "* Pclass : 乘客等级(1/2/3等舱位)\n",
    "\n",
    "* Name : 乘客姓名\n",
    "\n",
    "* Sex : 性别\n",
    "\n",
    "* Age : 年龄\n",
    "\n",
    "* SibSp : 堂兄弟/妹个数\n",
    "\n",
    "* Parch : 父母与小孩个数\n",
    "\n",
    "* Ticket : 船票信息\n",
    "\n",
    "* Fare : 票价\n",
    "\n",
    "* Cabin : 客舱\n",
    "\n",
    "* Embarked : 登船港口"
   ]
  },
  {
   "cell_type": "markdown",
   "metadata": {},
   "source": [
    "## 3. 数据清洗\n",
    "\n",
    "数据清洗主要包括：**选取子集，缺失数据处理、数据格式转换、异常值数据处理**等。\n",
    "\n",
    "### 基本数据处理\n",
    "\n",
    "为了获得更完整的数据，先将 test 与 gender_submission **合并**，再将合并后的数据与 train 中的数据**连接**在一起，以得到 1309 条完整数据："
   ]
  },
  {
   "cell_type": "markdown",
   "metadata": {},
   "source": [
    "**合并**\n",
    "\n",
    "以 PassengerId 为键值，left合并方式合并"
   ]
  },
  {
   "cell_type": "code",
   "execution_count": null,
   "metadata": {},
   "outputs": [],
   "source": []
  },
  {
   "cell_type": "markdown",
   "metadata": {},
   "source": [
    "**连接**\n",
    "\n",
    "连接后的完整数据赋值为 **titanic**"
   ]
  },
  {
   "cell_type": "code",
   "execution_count": null,
   "metadata": {},
   "outputs": [],
   "source": []
  },
  {
   "cell_type": "markdown",
   "metadata": {},
   "source": [
    "**查看缺失值**"
   ]
  },
  {
   "cell_type": "code",
   "execution_count": null,
   "metadata": {},
   "outputs": [],
   "source": [
    "titanic.info()"
   ]
  },
  {
   "cell_type": "code",
   "execution_count": null,
   "metadata": {},
   "outputs": [],
   "source": [
    "titanic.isnull().sum()"
   ]
  },
  {
   "cell_type": "markdown",
   "metadata": {},
   "source": [
    "“Age”、“Cabin”、“Embarked”、“Fare”列有缺失值。"
   ]
  },
  {
   "cell_type": "markdown",
   "metadata": {},
   "source": [
    "### 缺失值处理的方法\n",
    "\n",
    "对数据进行分析的时候要注意其中是否有缺失值。对于缺失值，一般有以下几种处理方法:\n",
    "\n",
    "1. 如果数据集很多，但有很少的缺失值，可以删掉带缺失值的行。\n",
    "\n",
    "2. 如果该属性相对学习来说不是很重要，可以对缺失值赋均值或者众数。\n",
    "\n",
    "3. 对于标称属性，可以赋一个代表缺失的值，比如‘U0’。因为缺失本身也可能代表着一些隐含信息。比如船舱号Cabin这一属性，缺失可能代表并没有船舱。\n",
    "\n",
    "比如在哪儿上船Embarked这一属性（共有三个上船地点），缺失两个值，可以用众数赋值。\n",
    "\n",
    "PS: 众数(Mode)是指一组数据中出现次数最多的那个数据\n",
    "\n",
    "#### Embarked"
   ]
  },
  {
   "cell_type": "code",
   "execution_count": null,
   "metadata": {},
   "outputs": [],
   "source": [
    "titanic.Embarked.mode()"
   ]
  },
  {
   "cell_type": "code",
   "execution_count": null,
   "metadata": {},
   "outputs": [],
   "source": [
    "titanic['Embarked'].fillna('S',inplace=True)\n",
    "\n",
    "# 或者这样写\n",
    "# titanic.Embarked[titanic.Embarked.isnull()] = titanic.Embarked.dropna().mode().values"
   ]
  },
  {
   "cell_type": "markdown",
   "metadata": {},
   "source": [
    "#### Fare\n",
    "\n",
    "因为“Fare”主要与“Pclass”有关，所以我们应该检查这个乘客属于哪一类。"
   ]
  },
  {
   "cell_type": "code",
   "execution_count": null,
   "metadata": {},
   "outputs": [],
   "source": [
    "titanic[titanic.Fare.isnull()]"
   ]
  },
  {
   "cell_type": "markdown",
   "metadata": {},
   "source": [
    "这是3等舱的乘客，所以我们用3等舱的中间票价来填充缺失的值。"
   ]
  },
  {
   "cell_type": "code",
   "execution_count": null,
   "metadata": {},
   "outputs": [],
   "source": [
    "titanic.Fare.fillna(titanic[titanic.Pclass==3]['Fare'].median(),inplace=True)"
   ]
  },
  {
   "cell_type": "markdown",
   "metadata": {},
   "source": [
    "#### Cabin\n",
    "\n",
    "船舱号 Cabin 这一属性，有1014个缺失值。缺失可能代表并没有船舱，可能有船舱号的人和没有船舱号的人的存活率有差异。\n",
    "\n",
    "因此，将有船舱号的人和没有船舱号的人进行区分。"
   ]
  },
  {
   "cell_type": "code",
   "execution_count": null,
   "metadata": {},
   "outputs": [],
   "source": [
    "# 只区分有无船舱号\n",
    "titanic.loc[titanic.Cabin.notnull(),'Cabin'] = 1\n",
    "titanic.loc[titanic.Cabin.isnull(),'Cabin'] = 0\n",
    "\n",
    "# 可以赋一个代表缺失的值，比如‘U0’\n",
    "# titanic['Cabin'] = titanic.Cabin.fillna('U0')\n",
    "# 也可以这样写\n",
    "# titanic.Cabin[titanic.CAbin.isnull()] = 'U0'"
   ]
  },
  {
   "cell_type": "markdown",
   "metadata": {},
   "source": [
    "#### Age\n",
    "\n",
    "Age缺失也较多，缺少263个值。\n",
    "\n",
    "一种简单粗暴的解决方案是用年龄中位数填充空值。我们也可以用平均年龄进行插补，但中位数对异常值更为稳健。\n",
    "```python\n",
    "titanic['Age'] = titanic['Age'].fillna(titanic['Age'].median())\n",
    "```"
   ]
  },
  {
   "cell_type": "markdown",
   "metadata": {},
   "source": [
    "但用均值或中位数填充不太恰当，会使数据失真。因为Age在该数据集里是一个相当重要的特征，保证一定的缺失值填充准确率是非常重要的，对结果也会产生较大影响。\n",
    "\n",
    "我们试着通过更多的分析来填充年龄。年龄应该和称呼关系比较密切，试做分析。\n",
    "\n",
    "通过观察名字数据，我们可以看出其中包括对乘客的称呼，如：Mr、Miss、Mrs等称呼信息包含了乘客的年龄、性别；Dr，Lady，Major（少校），Master（硕士，主人，师傅）等称呼包含了人的社会地位。\n",
    "\n",
    "**从 Name 列中获取称呼信息**"
   ]
  },
  {
   "cell_type": "code",
   "execution_count": null,
   "metadata": {
    "scrolled": true
   },
   "outputs": [],
   "source": [
    "titanic['Title'] = titanic['Name'].apply(lambda x: x.split(',')[1].split('.')[0].strip())\n",
    "titanic.Title.value_counts()"
   ]
  },
  {
   "cell_type": "markdown",
   "metadata": {},
   "source": [
    "**交叉表(crossTab)**\n",
    "\n",
    "交叉表是用于统计分组频率的特殊透视表"
   ]
  },
  {
   "cell_type": "code",
   "execution_count": null,
   "metadata": {},
   "outputs": [],
   "source": [
    "pd.crosstab(titanic.Title,titanic.Sex)"
   ]
  },
  {
   "cell_type": "markdown",
   "metadata": {},
   "source": [
    "除“Dr”外，所有的“称呼”都属于一种性别。"
   ]
  },
  {
   "cell_type": "code",
   "execution_count": null,
   "metadata": {},
   "outputs": [],
   "source": [
    "titanic[(titanic.Title == 'Dr') & (titanic.Sex == 'female')]"
   ]
  },
  {
   "cell_type": "markdown",
   "metadata": {},
   "source": [
    "#### 映射“称呼”"
   ]
  },
  {
   "cell_type": "code",
   "execution_count": null,
   "metadata": {},
   "outputs": [],
   "source": [
    "nn = {  'Capt':'Rareman', \n",
    "        'Col':'Rareman',\n",
    "        'Don':'Rareman',\n",
    "        'Dona':'Rarewoman',\n",
    "        'Dr':'Rareman',\n",
    "        'Jonkheer':'Rareman',\n",
    "        'Lady':'Rarewoman',\n",
    "        'Major':'Rareman',\n",
    "        'Master':'Master',\n",
    "        'Miss':'Miss',\n",
    "        'Mlle':'Rarewoman',\n",
    "        'Mme':'Rarewoman',\n",
    "        'Mr':'Mr',\n",
    "        'Mrs':'Mrs',\n",
    "        'Ms':'Rarewoman',\n",
    "        'Rev':'Mr',\n",
    "        'Sir':'Rareman',\n",
    "        'the Countess':'Rarewoman' }"
   ]
  },
  {
   "cell_type": "code",
   "execution_count": null,
   "metadata": {},
   "outputs": [],
   "source": [
    "titanic.Title = titanic.Title.map(nn)\n",
    "# 单独处理一下 797 号乘客\n",
    "titanic.loc[titanic.PassengerId == 797,'Title'] = 'Rarewoman'"
   ]
  },
  {
   "cell_type": "code",
   "execution_count": null,
   "metadata": {},
   "outputs": [],
   "source": [
    "titanic.Title.value_counts()"
   ]
  },
  {
   "cell_type": "code",
   "execution_count": null,
   "metadata": {},
   "outputs": [],
   "source": [
    "titanic.loc[titanic.Title == 'Master', 'Sex'].value_counts()"
   ]
  },
  {
   "cell_type": "code",
   "execution_count": null,
   "metadata": {},
   "outputs": [],
   "source": [
    "titanic.loc[titanic.Title == 'Master', 'Age'].describe()"
   ]
  },
  {
   "cell_type": "markdown",
   "metadata": {},
   "source": [
    "“Master”主要代表小男孩，但我们也希望找到小女孩。以验证孩子的存活率是否更高。\n",
    "\n",
    "对于有年龄记录的‘Miss’，我们可以简单地通过年龄判断‘Miss’是否是小女孩。\n",
    "\n",
    "对于没有年龄记录的“Miss”，我们使用(Parch！= 0). 因为如果是个小女孩，她很可能会有父母陪伴。\n",
    "\n",
    "我们将创建一个函数来过滤女孩。如果'Age'为Nan，则无法使用该函数，因此首先用'999'填充缺少的值。"
   ]
  },
  {
   "cell_type": "code",
   "execution_count": null,
   "metadata": {},
   "outputs": [],
   "source": [
    "titanic.Age.fillna(999,inplace=True)"
   ]
  },
  {
   "cell_type": "code",
   "execution_count": null,
   "metadata": {},
   "outputs": [],
   "source": [
    "def girl(pax):\n",
    "    if (pax.Age != 999) & (pax.Title == 'Miss') & (pax.Age <= 14):\n",
    "        return 'Girl'\n",
    "    elif (pax.Age == 999) & (pax.Title == 'Miss') & (pax.Parch != 0):\n",
    "        return 'Girl'\n",
    "    else:\n",
    "        return pax.Title"
   ]
  },
  {
   "cell_type": "code",
   "execution_count": null,
   "metadata": {},
   "outputs": [],
   "source": [
    "titanic['Title'] = titanic.apply(girl,axis=1)\n",
    "titanic.Title.value_counts()"
   ]
  },
  {
   "cell_type": "markdown",
   "metadata": {},
   "source": [
    "接下来，我们根据他们的“称呼”来填写缺失的“年龄”。"
   ]
  },
  {
   "cell_type": "code",
   "execution_count": null,
   "metadata": {},
   "outputs": [],
   "source": [
    "Tit = ['Mr','Miss','Mrs','Master','Girl','Rareman','Rarewoman']\n",
    "for i in Tit:\n",
    "    titanic.loc[(titanic.Age == 999) & (titanic.Title == i),'Age'] = titanic.loc[titanic.Title == i,'Age'].median()"
   ]
  },
  {
   "cell_type": "code",
   "execution_count": null,
   "metadata": {},
   "outputs": [],
   "source": [
    "titanic.info()"
   ]
  },
  {
   "cell_type": "markdown",
   "metadata": {},
   "source": [
    "**至此，缺失值已经全部填充完成。**"
   ]
  },
  {
   "cell_type": "code",
   "execution_count": null,
   "metadata": {},
   "outputs": [],
   "source": [
    "titanic.describe()"
   ]
  },
  {
   "cell_type": "markdown",
   "metadata": {},
   "source": [
    "mean字段告诉我们，大概0.377387的人最后获救了，2/3等舱的人数比1等舱要多，平均乘客年龄大概是30.3岁"
   ]
  },
  {
   "cell_type": "markdown",
   "metadata": {},
   "source": [
    "## 4. 数据分析及可视化\n",
    "\n",
    "在进行数据分析及可视化时，**依据每个问题选取所需切片并赋值给新的 DataFrame 再进行分析和可视化展示，这样数据不易乱且条理更清晰。**\n",
    "\n",
    "![](images/news.jpg)"
   ]
  },
  {
   "cell_type": "markdown",
   "metadata": {},
   "source": [
    "**正常显示中文的设置**"
   ]
  },
  {
   "cell_type": "code",
   "execution_count": null,
   "metadata": {},
   "outputs": [],
   "source": [
    "plt.rcParams['font.sans-serif'] = ['SimHei'] #用来正常显示中文标签\n",
    "plt.rcParams['axes.unicode_minus'] = False #用来正常显示负号\n",
    "\n",
    "# plt.style.use('ggplot')   # R 中的 ggplot 的效果"
   ]
  },
  {
   "cell_type": "markdown",
   "metadata": {},
   "source": [
    "### （1）整体来看，存活比例如何？\n",
    "\n",
    "获取生还比例 (即统计 Survived 列中值 0 和 1 的出现次数)"
   ]
  },
  {
   "cell_type": "code",
   "execution_count": null,
   "metadata": {},
   "outputs": [],
   "source": []
  },
  {
   "cell_type": "markdown",
   "metadata": {},
   "source": [
    "### （2）结合性别和年龄数据，分析幸存下来的人是哪些人？\n",
    "\n",
    ">要求：\n",
    ">① 年龄数据的分布情况\n",
    ">② 男性和女性存活情况\n",
    ">③ 老人和小孩存活情况\n",
    "\n",
    "**灾难面前，生死存亡之际，男士们是否让妇孺优先，展现出了高贵的骑士精神？**\n",
    "\n",
    "![](images/titanic01.jpg)"
   ]
  },
  {
   "cell_type": "markdown",
   "metadata": {},
   "source": [
    "**选取 titanic 的['Survived','Age','Sex']几列，得到一个 DataFrame ，赋值为 age_df**"
   ]
  },
  {
   "cell_type": "code",
   "execution_count": null,
   "metadata": {
    "scrolled": false
   },
   "outputs": [],
   "source": []
  },
  {
   "cell_type": "markdown",
   "metadata": {},
   "source": [
    "**分析男女生还比例**\n",
    "\n",
    "提示：将 age_df 分组，分组标签为'Sex'，并求其平均值"
   ]
  },
  {
   "cell_type": "code",
   "execution_count": null,
   "metadata": {},
   "outputs": [],
   "source": []
  },
  {
   "cell_type": "markdown",
   "metadata": {},
   "source": [
    "### （3）结合 SibSp、Parch字段，研究亲人多少与存活的关系\n",
    "\n",
    ">要求：\n",
    ">① 有无兄弟姐妹/父母子女和存活与否的关系\n",
    ">② 亲戚多少与存活与否的关系\n",
    "\n",
    "**亲情激发之牵挂，是否更能生发出生之希望？**\n",
    "\n",
    "> 父兮生我，母兮鞠我。抚我畜我，长我育我，顾我复我，出入腹我。欲报之德。昊天罔极! ----《诗经·小雅·蓼莪》\n",
    "\n",
    "![](images/titanic02.jpg)\n",
    "\n",
    "**选取 titanic 的['Survived','SibSp','Parch']几列，得到一个 DataFrame ，赋值为 sp_df**"
   ]
  },
  {
   "cell_type": "code",
   "execution_count": null,
   "metadata": {},
   "outputs": [],
   "source": []
  },
  {
   "cell_type": "markdown",
   "metadata": {},
   "source": [
    "### （4）结合票的费用情况，研究票价和存活与否的关系\n",
    "\n",
    ">要求：\n",
    ">① 票价分布和存活与否的关系\n",
    ">② 比较研究生还者和未生还者的票价情况\n",
    "\n",
    "![](images/titanic03.jpg)\n",
    "\n",
    "**选取 titanic 的['Survived','Pclass','Fare']几列，得到一个 DataFrame ，赋值为 fare_df**"
   ]
  },
  {
   "cell_type": "code",
   "execution_count": null,
   "metadata": {},
   "outputs": [],
   "source": []
  },
  {
   "cell_type": "markdown",
   "metadata": {},
   "source": [
    "### （5）称呼与存活与否的关系分析\n",
    "\n",
    "> 能力越大,责任就越大!\n",
    "\n",
    "> With great power comes great responsibility！\n",
    "\n",
    ">                                    ---- 蜘蛛侠\n",
    "\n",
    "**能力越大,责任就越大! 真的是这样吗？**\n",
    "\n",
    "![](images/titanic04.jpg)"
   ]
  },
  {
   "cell_type": "markdown",
   "metadata": {},
   "source": [
    "**观察不同称呼与生存率的关系**\n",
    "\n",
    "选取 titanic 的['Title','Survived']几列，得到一个 DataFrame ，并将其分组，分组标签为['Title']，并求其平均值"
   ]
  },
  {
   "cell_type": "code",
   "execution_count": null,
   "metadata": {
    "scrolled": true
   },
   "outputs": [],
   "source": []
  },
  {
   "cell_type": "markdown",
   "metadata": {},
   "source": [
    "## 5. 总结\n",
    "\n",
    "> 梳理分析结果形成结论。通过提炼隐藏在数据背后的信息，总结出所研究对象的内在规律的目的，以期获得有价值的产品、服务，或深刻的洞见!\n",
    "\n",
    "* **<font color='red'>该项目是一个经典的数据分析练手项目</font>**。这里仅选取了几个主要的因素，分析其与乘客的存活率之间的联系。尚有很多可继续分析挖掘之处，如不同等级舱不同性别各个年龄段的存活率等。\n",
    "\n",
    "* **<font color='red'>功夫在诗外</font>**。更深入的分析需要更多的数理统计方面的知识(如统计学，线性代数等)，以及对数据的理解。如此，才能熟稔数据分析背后的原理。\n",
    "\n",
    "* **<font color='red'>聊抛一砖以引玉，盼我燕大诸子尽心之、努力之</font>。**"
   ]
  }
 ],
 "metadata": {
  "kernelspec": {
   "display_name": "Python 3",
   "language": "python",
   "name": "python3"
  },
  "language_info": {
   "codemirror_mode": {
    "name": "ipython",
    "version": 3
   },
   "file_extension": ".py",
   "mimetype": "text/x-python",
   "name": "python",
   "nbconvert_exporter": "python",
   "pygments_lexer": "ipython3",
   "version": "3.7.3"
  },
  "toc": {
   "base_numbering": 1,
   "nav_menu": {},
   "number_sections": true,
   "sideBar": true,
   "skip_h1_title": false,
   "title_cell": "Table of Contents",
   "title_sidebar": "Contents",
   "toc_cell": false,
   "toc_position": {},
   "toc_section_display": true,
   "toc_window_display": false
  }
 },
 "nbformat": 4,
 "nbformat_minor": 2
}
