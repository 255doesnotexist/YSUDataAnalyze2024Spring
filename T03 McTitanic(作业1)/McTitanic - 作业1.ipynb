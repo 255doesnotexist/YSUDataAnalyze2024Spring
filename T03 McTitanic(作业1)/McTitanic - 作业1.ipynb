{
 "cells": [
  {
   "cell_type": "markdown",
   "metadata": {},
   "source": [
    "# 课程项目：Kaggle-Titanic 泰坦尼克号获救问题\n",
    "\n",
    "> by 马川 燕山大学\n",
    "\n",
    "![](images/Titanic.jpg)\n",
    "\n",
    "> 问题设置参考自网络，结合本课程进行了修改和扩充，以期为学生提供一个完整的项目案例。藉练手，贯所学，一窥数据分析之面貌。\n",
    "\n",
    ">**代码胜于雄辩(Talk is cheap.Show me the code)** \n",
    "\n",
    ">               ---- 林纳斯·托瓦兹(Linus Torvalds)\n",
    "\n",
    "> 参考链接：[**Kaggle-Titanic项目:**  https://www.kaggle.com/c/titanic](https://www.kaggle.com/c/titanic)\n",
    "\n",
    "> 参考链接：https://blog.csdn.net/zongzi009/article/details/82391034\n",
    "\n",
    "> 参考链接：https://github.com/massquantity/Kaggle-Titanic\n",
    "\n",
    "> 参考链接：https://tianchi.aliyun.com/notebook-ai/detail?spm=5176.12282042.0.0.1dce2042NBc6J6&postId=6772 "
   ]
  },
  {
   "cell_type": "markdown",
   "metadata": {},
   "source": [
    "本项目数据来源于[kaggle上的Titanic数据集](https://www.kaggle.com/c/titanic/data)，共计1309条数据，其中训练集891条，测试集418条。对泰坦尼克号乘客数据进行分析，**挖掘获救乘客和遇难乘客的数据特点以及与其他因素的相关性，寻找影响乘客生存与否的因素。**\n",
    "\n",
    "**PS**:Kaggle项目还会要求根据训练集构建模型并对测试集中的数据进行预测，但本课程不涉及预测问题。\n",
    "\n",
    "## 1. 问题及思路\n",
    "\n",
    "### 提出问题\n",
    "\n",
    "**1. 整体来看，存活比例如何？**\n",
    "\n",
    "> 要求：\n",
    ">    ① 将train.csv，test.csv和gender_submission.csv合并为titanic.csv\n",
    ">    ② 查看已知存活数据中，存活比例如何？\n",
    "\n",
    "**2. 结合性别和年龄数据，分析幸存下来的人是哪些人？**\n",
    "\n",
    "> 要求：\n",
    ">    ① 年龄数据的分布情况\n",
    ">    ② 男性和女性存活情况\n",
    ">    ③ 老人和小孩存活情况\n",
    "\n",
    "**3. 结合 SibSp、Parch字段，研究亲人多少与存活的关系**\n",
    "\n",
    "> 要求：\n",
    ">    ① 有无兄弟姐妹/父母子女和存活与否的关系\n",
    ">    ② 亲戚多少与存活与否的关系\n",
    "\n",
    "**4. 结合票的费用情况，研究票价和存活与否的关系**\n",
    "\n",
    "> 要求：\n",
    ">    ① 票价分布和存活与否的关系\n",
    ">    ② 比较研究生还者和未生还者的票价情况\n",
    "\n",
    "**5. 称呼与存活与否的关系**\n",
    "\n",
    "> 要求：\n",
    ">    ① 观察不同称呼与生存率的关系\n",
    "\n",
    "\n",
    "### 实现思路\n",
    "\n",
    "1. 计算整体的存活率，深入分析男性和女性的不同年龄段的存活人数和占比，分析性别、年龄和存活率之间的联系；观察不同等级舱和年龄存活率，分析等级舱、年龄和存活率的关系；分析不同年龄存活率的分布来查看老人和儿童存活率。\n",
    "\n",
    "2. 使用饼图来直观展示有父母/亲戚和没有父母/亲戚乘客的存活率有何差异。若有明显差异，可以深入分析亲人的数量对存活率是否有联系。\n",
    "\n",
    "3. 分析所有乘客的票价分布情况，及不同等级舱的票价分布情况，通过观察幸存者和遇难者的票价的平均值或标准差来分析票价与存活率的联系；通过观察不同称呼与生存率的关系，分析社会地位对生存率的影响。\n",
    "\n",
    "## 2. 理解数据\n",
    "\n",
    "从Kaggle平台上下载3个原始数据集：train.csv，test.csv，gender_submission.csv。\n",
    "\n",
    "其中：\n",
    "1. train.csv 为编号为 1-891 共 891 名乘客的信息，作为训练数据；\n",
    "2. test.csv 为编号 892-1309 共 418 名乘客的信息，作为测试数据(删掉了是否生还列 Survived)；\n",
    "3. gender_submission.csv 为 Kaggle 项目需要提交的结果格式以及正确答案(乘客的实际生还情况)。 \n",
    "\n",
    "### 导入相关包"
   ]
  },
  {
   "cell_type": "code",
   "execution_count": null,
   "metadata": {},
   "outputs": [],
   "source": [
    "#导入需要的包\n",
    "import numpy as np\n",
    "import pandas as pd\n",
    "import matplotlib.pyplot as plt\n",
    "%matplotlib inline"
   ]
  },
  {
   "cell_type": "markdown",
   "metadata": {},
   "source": [
    "### 读取数据\n",
    "\n",
    "数据在data文件夹里"
   ]
  },
  {
   "cell_type": "code",
   "execution_count": null,
   "metadata": {},
   "outputs": [],
   "source": []
  },
  {
   "cell_type": "markdown",
   "metadata": {},
   "source": [
    "#### 查看\n",
    "\n",
    "利用head()或tail(),分别查看train.csv和test.csv的前5行数据和后5行数据"
   ]
  },
  {
   "cell_type": "code",
   "execution_count": null,
   "metadata": {},
   "outputs": [],
   "source": []
  },
  {
   "cell_type": "code",
   "execution_count": null,
   "metadata": {
    "scrolled": true
   },
   "outputs": [],
   "source": []
  },
  {
   "cell_type": "markdown",
   "metadata": {},
   "source": [
    "train存放的是训练数据，test存放的是测试数据。\n",
    "\n",
    "**相关字段含义介绍：**\n",
    "\n",
    "* PassengerId : 乘客ID\n",
    "\n",
    "* Survived： 是否生还\n",
    "\n",
    "* Pclass : 乘客等级(1/2/3等舱位)\n",
    "\n",
    "* Name : 乘客姓名\n",
    "\n",
    "* Sex : 性别\n",
    "\n",
    "* Age : 年龄\n",
    "\n",
    "* SibSp : 堂兄弟/妹个数\n",
    "\n",
    "* Parch : 父母与小孩个数\n",
    "\n",
    "* Ticket : 船票信息\n",
    "\n",
    "* Fare : 票价\n",
    "\n",
    "* Cabin : 客舱\n",
    "\n",
    "* Embarked : 登船港口"
   ]
  },
  {
   "cell_type": "markdown",
   "metadata": {},
   "source": [
    "**用info() 查看train和test数据信息**"
   ]
  },
  {
   "cell_type": "code",
   "execution_count": null,
   "metadata": {},
   "outputs": [],
   "source": []
  },
  {
   "cell_type": "markdown",
   "metadata": {},
   "source": [
    "#### 统计 \n",
    "\n",
    "用describe() 查看train每栏的统计数据。"
   ]
  },
  {
   "cell_type": "code",
   "execution_count": null,
   "metadata": {},
   "outputs": [],
   "source": []
  },
  {
   "cell_type": "markdown",
   "metadata": {},
   "source": [
    "### 数据表的索引和切片"
   ]
  },
  {
   "cell_type": "markdown",
   "metadata": {},
   "source": [
    "获取生还比例 (即统计 Survived 列中值 0 和 1 的出现次数)"
   ]
  },
  {
   "cell_type": "code",
   "execution_count": null,
   "metadata": {
    "scrolled": true
   },
   "outputs": [],
   "source": []
  },
  {
   "cell_type": "markdown",
   "metadata": {},
   "source": [
    "检索 train 中第207条数据的乘客姓名(Name)"
   ]
  },
  {
   "cell_type": "code",
   "execution_count": null,
   "metadata": {},
   "outputs": [],
   "source": []
  },
  {
   "cell_type": "markdown",
   "metadata": {},
   "source": [
    "切片 train ，得到其第10-20条记录中从乘客姓名(Name)到船票信息(Ticket)的数据"
   ]
  },
  {
   "cell_type": "code",
   "execution_count": null,
   "metadata": {
    "scrolled": true
   },
   "outputs": [],
   "source": []
  },
  {
   "cell_type": "markdown",
   "metadata": {},
   "source": [
    "#### 高级索引\n",
    "\n",
    "检索年龄超过50岁的乘客数据"
   ]
  },
  {
   "cell_type": "code",
   "execution_count": null,
   "metadata": {},
   "outputs": [],
   "source": []
  },
  {
   "cell_type": "markdown",
   "metadata": {},
   "source": [
    "检索出所有女性乘客的数据"
   ]
  },
  {
   "cell_type": "code",
   "execution_count": null,
   "metadata": {},
   "outputs": [],
   "source": []
  },
  {
   "cell_type": "markdown",
   "metadata": {},
   "source": [
    "检索出乘客ID为7的乘客数据"
   ]
  },
  {
   "cell_type": "code",
   "execution_count": null,
   "metadata": {
    "scrolled": true
   },
   "outputs": [],
   "source": []
  },
  {
   "cell_type": "markdown",
   "metadata": {},
   "source": [
    "筛选年龄值没有缺失的所有行上的是否生还(Survived)，等级舱(Pclass)，性别(Sex)，年龄(Age)数据\n",
    "\n",
    "提示：利用train['Age'].notnull()，可以得到年龄值没有缺失的所有行"
   ]
  },
  {
   "cell_type": "code",
   "execution_count": null,
   "metadata": {},
   "outputs": [],
   "source": []
  },
  {
   "cell_type": "markdown",
   "metadata": {},
   "source": [
    "筛选出1/2/3等舱乘客的年龄数据"
   ]
  },
  {
   "cell_type": "code",
   "execution_count": null,
   "metadata": {},
   "outputs": [],
   "source": []
  },
  {
   "cell_type": "markdown",
   "metadata": {},
   "source": [
    "筛选出有兄弟姐妹 ( SibSp ) 的乘客数据"
   ]
  },
  {
   "cell_type": "code",
   "execution_count": null,
   "metadata": {},
   "outputs": [],
   "source": []
  },
  {
   "cell_type": "markdown",
   "metadata": {},
   "source": [
    "#### 调用函数\n",
    "\n",
    "检索出train中票价(Fare)高于票价平均值的乘客数据，并保存到titanic_high_fare.csv中"
   ]
  },
  {
   "cell_type": "code",
   "execution_count": null,
   "metadata": {
    "scrolled": true
   },
   "outputs": [],
   "source": []
  },
  {
   "cell_type": "markdown",
   "metadata": {},
   "source": [
    "从名字中提取头衔 (如Miss，Mr等)\n",
    "\n",
    "提示：使用**apply函数**，提取头衔操作可用`lambda x: x.split(',')[1].split('.')[0].strip()`"
   ]
  },
  {
   "cell_type": "code",
   "execution_count": null,
   "metadata": {},
   "outputs": [],
   "source": []
  }
 ],
 "metadata": {
  "kernelspec": {
   "display_name": "Python 3",
   "language": "python",
   "name": "python3"
  },
  "language_info": {
   "codemirror_mode": {
    "name": "ipython",
    "version": 3
   },
   "file_extension": ".py",
   "mimetype": "text/x-python",
   "name": "python",
   "nbconvert_exporter": "python",
   "pygments_lexer": "ipython3",
   "version": "3.7.6"
  },
  "toc": {
   "base_numbering": 1,
   "nav_menu": {},
   "number_sections": true,
   "sideBar": true,
   "skip_h1_title": false,
   "title_cell": "Table of Contents",
   "title_sidebar": "Contents",
   "toc_cell": false,
   "toc_position": {},
   "toc_section_display": true,
   "toc_window_display": false
  }
 },
 "nbformat": 4,
 "nbformat_minor": 2
}
