{
 "cells": [
  {
   "cell_type": "markdown",
   "metadata": {},
   "source": [
    "# 盘一盘 Python 系列 4 - Pandas (上)\n",
    "\n",
    "\n",
    ">*by* 马川整理  *燕山大学*\n",
    "\n",
    ">原创： 王圣元 王的机器 2019-04-11\n",
    "\n",
    ">**本人将王圣元的公众号([王的机器](https://mp.weixin.qq.com/s/Fo-UIGnsoU2nBVLxSw_nVw))文章转录为ipynb文档，并据本课程所需有所增删**"
   ]
  },
  {
   "cell_type": "markdown",
   "metadata": {},
   "source": [
    "## 0 引言\n",
    "\n",
    "Pandas 是 Python 为解决数据分析而创建的，详情看官网 (https://pandas.pydata.org/ )。 在使用 pandas 之前，需要引进它，语法如下：\n",
    "\n",
    ">import pandas\n",
    "\n",
    "但是每次写 pandas 字数有点多，通常我们给 pandas 起个别名 pd，用以下语法，这样所有出现 pandas 的地方都可以用 pd 替代。"
   ]
  },
  {
   "cell_type": "code",
   "execution_count": 2,
   "metadata": {},
   "outputs": [],
   "source": [
    "import pandas as pd"
   ]
  },
  {
   "cell_type": "markdown",
   "metadata": {},
   "source": [
    "Pandas 里面的数据结构是「多维数据表」，学习它可以类比 NumPy 里的「多维数组」。1/2 维的「多维数据表」分别叫做 Series (系列)和 DataFrame (数据帧)，与1/2 维的「多维数组」的类比关系如下。\n",
    "\n",
    "![](images/6-1.png)"
   ]
  },
  {
   "cell_type": "markdown",
   "metadata": {},
   "source": [
    "对比 NumPy (np) 和 Pandas (pd) 每个维度下的数据结构，不难看出\n",
    "\n",
    "<b><font color=\"red\">pd 多维数据表 </font>= <font color=\"blue\">np 多维数组</font> + <font color=\"green\">描述</font></b>\n",
    "\n",
    "其中\n",
    "<b>\n",
    "* <font color=\"red\">Series</font> = <font color=\"blue\">1darray</font> + <font color=\"green\">index</font>\n",
    "\n",
    "* <font color=\"red\">DataFrame</font> = <font color=\"blue\">2darray</font> + <font color=\"green\">index</font> + <font color=\"green\">columns</font>\n",
    "</b>\n",
    "\n",
    "每个维度上的「索引」使得「多维数据表」比「多维数组」涵盖更多的信息，如下图，左边的 2d array 仅仅储存了一组数值 (具体代表什么意思却不知道)，而右边的 DataFrame 一看就知道这是平安银行和茅台从 2018-1-3 到 2019-1-3 的价格。\n",
    "\n",
    "![](images/6-2.png)\n",
    "\n",
    "和学习 numpy 一样，学习 pandas 还是遵循的 Python 里「万物皆对象」的原则，既然把数据表当对象，我们就按着**数据表的创建、数据表的存载、数据表的获取、数据表的合并和连接、数据表的重塑和透视、和数据表的分组和整合**来盘一盘 Pandas。\n",
    "\n",
    "**提纲：**\n",
    "\n",
    "![](images/Pandas提纲.png)\n",
    "\n",
    "\n",
    "## 1 数据表的创建\n",
    "\n",
    "数据表有两大类型\n",
    "\n",
    "* **Series**: 一维数据，类似于 python 中的基本数据的 list 或 NumPy 中的 1D array。Pandas 里最基本的数据结构\n",
    "\n",
    "* **DataFrame**: 二维数据，类似于 R 中的 data.frame 或 Matlab 中的 Tables。DataFrame 是 Series 的容器\n",
    "\n",
    "DataFrame 可理解成是 Series 的容器，每一列都是一个 Series，或者 Series 是只有一列的 DataFrame。\n",
    "\n",
    "接下来我们用代码来创建 pandas 数据表：\n",
    "\n",
    "#### 一维 Series \n",
    "\n",
    "创建 Series 只需用下面一行代码\n",
    "\n",
    "    pd.Series( x, index=idx )\n",
    "\n",
    "其中 x 可以是\n",
    "\n",
    "1. 列表 (list)\n",
    "\n",
    "2. numpy 数组 (ndarray)\n",
    "\n",
    "3. 字典 (dict)\n",
    "\n",
    "回顾Python编程基础中函数的定义，那么\n",
    "\n",
    "* x 是位置参数\n",
    "\n",
    "* index 是默认参数，默认值为 idx = range(0, len(x))\n",
    "\n",
    "<font color=\"red\"><b>用列表</b></font>"
   ]
  },
  {
   "cell_type": "code",
   "execution_count": null,
   "metadata": {},
   "outputs": [],
   "source": [
    "s = pd.Series([27.2, 27.65, 27.70, 28])\n",
    "s"
   ]
  },
  {
   "cell_type": "markdown",
   "metadata": {},
   "source": [
    "打印出来并不仅仅是列表里面的浮点数，每个浮点数前面还有一个索引，在本例中是 0, 1, 2, 3。\n",
    "\n",
    "因此在创建 Series 时，如果不显性设定 index，那么 Python 给定一个默认从 0 到 N-1 的值，其中 N 是 x 的长度。\n",
    "\n",
    "Series s 也是一个对象，用 dir(s) 可看出关于 Series 所有的属性和内置函数，其中最重要的是\n",
    "\n",
    "* 用 s.values 打印 s 中的元素\n",
    "\n",
    "* 用 s.index 打印 s 中的元素对应的索引"
   ]
  },
  {
   "cell_type": "code",
   "execution_count": null,
   "metadata": {},
   "outputs": [],
   "source": [
    "s.values"
   ]
  },
  {
   "cell_type": "code",
   "execution_count": null,
   "metadata": {},
   "outputs": [],
   "source": [
    "s.index"
   ]
  },
  {
   "cell_type": "markdown",
   "metadata": {},
   "source": [
    "不难发现，以上创建的 Series 和 numpy 数组比多了「索引」，但这种 0,1,2,3 的索引是在没有什么描述意义。实际上我们定义的 s 是海底捞在 2019 年 4 月 1 日到 2019 年 4 月 4 日的股价，那么用日期来当索引是不是更好些？"
   ]
  },
  {
   "cell_type": "code",
   "execution_count": null,
   "metadata": {},
   "outputs": [],
   "source": [
    "dates = pd.date_range('20190401',periods=4)\n",
    "s2 = pd.Series( [27.2, 27.65, 27.70, 28], index=dates )\n",
    "s2"
   ]
  },
  {
   "cell_type": "markdown",
   "metadata": {},
   "source": [
    "显然，s2 比 s 包含的信息更多，这是 s2 的索引是一组日期对象，数据类型是 datetime64，频率是 D (天)。"
   ]
  },
  {
   "cell_type": "code",
   "execution_count": null,
   "metadata": {},
   "outputs": [],
   "source": [
    "s2.index"
   ]
  },
  {
   "cell_type": "markdown",
   "metadata": {},
   "source": [
    "你甚至还可以给 s2 命名，就叫海底捞股价如何？"
   ]
  },
  {
   "cell_type": "code",
   "execution_count": null,
   "metadata": {},
   "outputs": [],
   "source": [
    "s2.name = '海底捞股价'\n",
    "s2"
   ]
  },
  {
   "cell_type": "markdown",
   "metadata": {},
   "source": [
    "<font color=\"red\"><b>用 numpy 数组</b></font>\n",
    "\n",
    "除了用列表，我们还可以用 numpy 数组来生成 Series。在下例中，我们加入缺失值 np.nan，并分析一下 Series 中另外 5 个属性或内置函数的用法：\n",
    "\n",
    "* len: s 里的元素个数\n",
    "\n",
    "* shape: s 的形状 (用元组表示)\n",
    "\n",
    "* count: s 里不含 nan 的元素个数\n",
    "\n",
    "* unique: 返回 s 里不重复的元素\n",
    "\n",
    "* value_counts: 统计 s 里非 nan 元素的出现次数\n",
    "\n",
    "对照上面函数的用法，下面的输出一看就懂了吧。"
   ]
  },
  {
   "cell_type": "code",
   "execution_count": 3,
   "metadata": {},
   "outputs": [
    {
     "name": "stdout",
     "output_type": "stream",
     "text": [
      "The length is 6\n",
      "The shape is (6,)\n",
      "The count is 5\n"
     ]
    }
   ],
   "source": [
    "import numpy as np\n",
    "\n",
    "s = pd.Series( np.array([27.2, 27.65, 27.70, 28, 28, np.nan]) )\n",
    "print( 'The length is', len(s) )\n",
    "print( 'The shape is', s.shape )\n",
    "print( 'The count is', s.count() )"
   ]
  },
  {
   "cell_type": "code",
   "execution_count": null,
   "metadata": {},
   "outputs": [],
   "source": [
    "s.unique()"
   ]
  },
  {
   "cell_type": "code",
   "execution_count": null,
   "metadata": {},
   "outputs": [],
   "source": [
    "s.value_counts()"
   ]
  },
  {
   "cell_type": "markdown",
   "metadata": {},
   "source": [
    "<font color=\"red\"><b>用字典</b></font>\n",
    "\n",
    "创建 Series 还可以用字典。字典的「键值对」的「键」自动变成了 Series 的索引 (index)，而「值」自动变成了Series 的值 (values)。代码如下 (下列用 name 参数来对 s3 命名)"
   ]
  },
  {
   "cell_type": "code",
   "execution_count": null,
   "metadata": {},
   "outputs": [],
   "source": [
    "data_dict = { 'BABA': 187.07, 'PDD': 21.83, 'JD': 30.79, 'BIDU': 184.77 }\n",
    "s3 = pd.Series(data_dict, name='中概股')\n",
    "s3.index.name = '股票代号'\n",
    "s3"
   ]
  },
  {
   "cell_type": "markdown",
   "metadata": {},
   "source": [
    "给 s3 起名中概股是因为阿里巴巴 (BABA)、拼多多 (PDD)、京东 (JD) 和百度 (BIDU) 都是中国公司但在美国上市的。此外还可以给 index 命名为 '股票代号'。\n",
    "\n",
    "现在假设我们的股票代号为"
   ]
  },
  {
   "cell_type": "code",
   "execution_count": null,
   "metadata": {},
   "outputs": [],
   "source": [
    "stock = ['FB', 'BABA', 'PDD', 'JD']\n",
    "s4 = pd.Series( s3, index=stock )\n",
    "s4"
   ]
  },
  {
   "cell_type": "markdown",
   "metadata": {},
   "source": [
    "代号里多加了脸书 (FB)，而 sdata 字典中没有 FB 这个键，因此生成的 s4 在 FB 索引下对应的值为 NaN。再者，代号里没有百度 (BIDU)，因此 s4 里面没有 BIDU 对应的值 (即便 s3 里面有)。\n",
    "\n",
    "当两个 Series 进行某种操作时，比如相加，Python 会自动对齐不同 Series 的 index，如下面代码所示："
   ]
  },
  {
   "cell_type": "code",
   "execution_count": null,
   "metadata": {},
   "outputs": [],
   "source": [
    "s3 + s4"
   ]
  },
  {
   "cell_type": "markdown",
   "metadata": {},
   "source": [
    "Series 是 Pandas 里面最基本的数据结构，但是对应每个索引只有一个元素 (比如一个日期对应一个股价)，因此 Series 处理不了每个索引对应多个元素 (比如一个日期对应一个开盘价、收盘价、交易量等等)。而 DataFrame 可以解决这个问题。\n",
    "\n",
    "#### 二维 DataFrame \n",
    "\n",
    "创建 DataFrame 只需用下面一行代码\n",
    "\n",
    "    pd.DataFrame( x, index=idx, columns=col )\n",
    "\n",
    "其中 x 可以是\n",
    "\n",
    "1. 二维列表 (list)\n",
    "\n",
    "2. 二维 numpy 数组 (ndarray)\n",
    "\n",
    "3. 字典 (dict)，其值是一维列表、numpy 数组或 Series\n",
    "\n",
    "4. 另外一个 DataFrame\n",
    "\n",
    "回顾Python编程基础中函数的定义，那么\n",
    "\n",
    "* x 是位置参数\n",
    "\n",
    "* index 是默认参数，默认值为 idx = range(0, x.shape[0])\n",
    "\n",
    "* columns 是默认参数，默认值为 col = range(0, x.shape[1])\n",
    "\n",
    "<font color=\"red\"><b>用列表或 numpy 数组</b></font>"
   ]
  },
  {
   "cell_type": "code",
   "execution_count": null,
   "metadata": {},
   "outputs": [],
   "source": [
    "# df1 = pd.DataFrame( [[1, 2, 3], [4, 5, 6]] )\n",
    "df1 = pd.DataFrame( np.array([[1, 2, 3], [4, 5, 6]]) )\n",
    "df1"
   ]
  },
  {
   "cell_type": "markdown",
   "metadata": {},
   "source": [
    "在创建 DataFrame 时，如果不显性设定 index 和 columns 时，那么Python 给它们默认值，其中\n",
    "\n",
    "* index = 0 到 r-1，r 是 x 的行数\n",
    "\n",
    "* colmns = 0 到 c-1，c 是 x 的列数\n",
    "\n",
    "<font color=\"red\"><b>用对象为列表的字典</b></font>"
   ]
  },
  {
   "cell_type": "code",
   "execution_count": null,
   "metadata": {},
   "outputs": [],
   "source": [
    "symbol = ['BABA', 'JD', 'AAPL', 'MS', 'GS', 'WMT']\n",
    "data = {'行业': ['电商', '电商', '科技', '金融', '金融', '零售'],\n",
    "        '价格': [176.92, 25.95, 172.97, 41.79, 196.00, 99.55],\n",
    "        '交易量': [16175610, 27113291, 18913154, 10132145, 2626634, 8086946],\n",
    "        '雇员': [101550, 175336, 100000, 60348, 36600, 2200000]}\n",
    "df2 = pd.DataFrame( data, index=symbol )\n",
    "df2.name='美股'\n",
    "df2.index.name = '代号'\n",
    "df2"
   ]
  },
  {
   "cell_type": "markdown",
   "metadata": {},
   "source": [
    "字典的「键值对」的「键」自动变成了 DataFrame 的栏 (columns)，而「值」自动变成了 DataFrame 的值 (values)，而其索引 (index) 需要另外定义。\n",
    "\n",
    "分别来看 df2 的 values, columns 和 index。"
   ]
  },
  {
   "cell_type": "code",
   "execution_count": null,
   "metadata": {},
   "outputs": [],
   "source": [
    "arr = np.array(df2.values)"
   ]
  },
  {
   "cell_type": "code",
   "execution_count": null,
   "metadata": {},
   "outputs": [],
   "source": [
    "arr[0]"
   ]
  },
  {
   "cell_type": "code",
   "execution_count": null,
   "metadata": {},
   "outputs": [],
   "source": [
    "df2.columns"
   ]
  },
  {
   "cell_type": "code",
   "execution_count": null,
   "metadata": {},
   "outputs": [],
   "source": [
    "df2.index"
   ]
  },
  {
   "cell_type": "markdown",
   "metadata": {},
   "source": [
    "#### A 查看 DataFrame\n",
    "\n",
    "我们可以从头或从尾部查看 DataFrame 的 n 行，分别用 df2.head() 和 df2.tail(n)，如果没有设定 n，默认值为 5 行。"
   ]
  },
  {
   "cell_type": "code",
   "execution_count": null,
   "metadata": {},
   "outputs": [],
   "source": [
    "df2.head()"
   ]
  },
  {
   "cell_type": "code",
   "execution_count": null,
   "metadata": {},
   "outputs": [],
   "source": [
    "df2.tail(3)"
   ]
  },
  {
   "cell_type": "markdown",
   "metadata": {},
   "source": [
    "#### B 统计 DataFrame\n",
    "\n",
    "我们用 df2.describe() 还可以看看 DataFrame 每栏的统计数据。"
   ]
  },
  {
   "cell_type": "code",
   "execution_count": null,
   "metadata": {},
   "outputs": [],
   "source": [
    "df2.describe()"
   ]
  },
  {
   "cell_type": "markdown",
   "metadata": {},
   "source": [
    "函数 describe() 只对「数值型变量」有用 (没有对「字符型变量」行业栏做统计)，统计量分别包括个数、均值、标准差、最小值，25-50-75 百分数值，最大值。一般做数据分析第一步会用这个表大概看看\n",
    "\n",
    "* 数据是否有缺失值 (每个栏下的 count 是否相等)？\n",
    "\n",
    "* 数据是否有异常值 (最小值 min 和最大值 max 是否太极端)？"
   ]
  },
  {
   "cell_type": "markdown",
   "metadata": {},
   "source": [
    "## 2 数据表的存载\n",
    "\n",
    "本节讲数据表的「保存」和「加载」，在 NumPy 一贴已经提到过，数据的存载没什么技术含量\n",
    "\n",
    "* 保存只是为了下次再用处理好的 DataFrame\n",
    "\n",
    "* 加载可以不用重新再定义 DataFrame\n",
    "\n",
    "DataFrame 可以被保存为 Excel, csv, SQL 和 HDF5 格式，其语句一看就懂，用 to_数据格式，具体如下：\n",
    "\n",
    "* to_excel()\n",
    "\n",
    "* to_csv()\n",
    "\n",
    "* to_sql()\n",
    "\n",
    "* to_hdf()\n",
    "\n",
    "如果要加载某种格式的数据到 DataFrame 里，用 read_数据格式，具体如下：\n",
    "\n",
    "* read_excel()\n",
    "\n",
    "* read_csv()\n",
    "\n",
    "* read_sql()\n",
    "\n",
    "* read_hdf()\n",
    "\n",
    "我们只用 excel 和 csv 格式举例。\n",
    "\n",
    "<font color=\"red\"><b>Excel 格式</b></font>\n",
    "\n",
    "用 pd.to_excel 函数将 DataFrame 保存为 .xlsx 格式，并保存到 ‘Sheet1’ 中，具体写法如下：\n",
    "\n",
    ">pd.to_excel( '文件名'，'表名' )"
   ]
  },
  {
   "cell_type": "code",
   "execution_count": null,
   "metadata": {},
   "outputs": [],
   "source": [
    "df = pd.DataFrame(np.array([[1, 2, 3], [4, 5, 6]]))\n",
    "df.to_excel('pd_excel.xlsx', sheet_name='Sheet1')"
   ]
  },
  {
   "cell_type": "markdown",
   "metadata": {},
   "source": [
    "用 pd.read_excel( '文件名'，'表名' ) 即可加载该文件并存成 DataFrame 形式"
   ]
  },
  {
   "cell_type": "code",
   "execution_count": null,
   "metadata": {},
   "outputs": [],
   "source": [
    "df1 = pd.read_excel('pd_excel.xlsx', sheet_name='Sheet1')\n",
    "df1"
   ]
  },
  {
   "cell_type": "markdown",
   "metadata": {},
   "source": [
    "<font color=\"red\"><b>csv 格式</b></font>\n",
    "\n",
    "用 pd.to_csv 函数将 DataFrame 保存为 .csv 格式，注意如果 index 没有特意设定，最后不要把 index 值存到 csv 文件中。具体写法如下：\n",
    "\n",
    ">pd.to_csv( '文件名'，index=False )"
   ]
  },
  {
   "cell_type": "code",
   "execution_count": null,
   "metadata": {},
   "outputs": [],
   "source": [
    "data = {'Code': ['BABA', '00700.HK', 'AAPL', '600519.SH'],\n",
    "        'Name': ['阿里巴巴', '腾讯', '苹果', '茅台'],\n",
    "        'Market': ['US', 'HK', 'US', 'SH'],\n",
    "        'Price': [185.35, 380.2, 197, 900.2],\n",
    "        'Currency': ['USD', 'HKD', 'USD', 'CNY']}\n",
    "df = pd.DataFrame(data)\n",
    "df.to_csv('pd_csv.csv', index=False)"
   ]
  },
  {
   "cell_type": "markdown",
   "metadata": {},
   "source": [
    "用 pd.read_csv( '文件名' ) 即可加载该文件并存成 DataFrame 形式"
   ]
  },
  {
   "cell_type": "code",
   "execution_count": null,
   "metadata": {},
   "outputs": [],
   "source": [
    "df2 = pd.read_csv('pd_csv.csv')\n",
    "df2"
   ]
  },
  {
   "cell_type": "markdown",
   "metadata": {},
   "source": [
    "如果一开始储存 df 的时候用 index=True，你会发现加载完后的 df2 是以下的样子。\n",
    "\n",
    "![](images/6-8-i.png)\n",
    "\n",
    "df2 里面第一栏是 df 的 index，由于没有具体的 columns 名称，系统给它一个 \"Unamed: 0\"。因此在存储 df 的时候，如果 df.index 没有特意设定，记住要在 to_csv() 中把 index 设置为 False。\n",
    "\n",
    "## 3 数据表的索引和切片\n",
    "\n",
    "由于索引/切片 Series 跟 numpy 数组很类似，因此本节只专注于对 DataFrame 做索引和切片。本节以下面 df 为例做展示。"
   ]
  },
  {
   "cell_type": "code",
   "execution_count": null,
   "metadata": {},
   "outputs": [],
   "source": [
    "symbol = ['BABA', 'JD', 'AAPL', 'MS', 'GS', 'WMT']\n",
    "data = {'行业': ['电商', '电商', '科技', '金融', '金融', '零售'],\n",
    "        '价格': [176.92, 25.95, 172.97, 41.79, 196.00, 99.55],\n",
    "        '交易量': [16175610, 27113291, 18913154, 10132145, 2626634, 8086946],\n",
    "        '雇员': [101550, 175336, 100000, 60348, 36600, 2200000]}\n",
    "df = pd.DataFrame( data, index=symbol )\n",
    "df.name='美股'\n",
    "df.index.name = '代号'\n",
    "df"
   ]
  },
  {
   "cell_type": "markdown",
   "metadata": {},
   "source": [
    "DataFrame 的索引或切片可以**基于标签 (label-based)** ，也可以**基于位置 (position-based)**，不像 numpy 数组的索引或切片只基于位置。\n",
    "\n",
    "DataFrame 的索引或切片有四大类：\n",
    "\n",
    "* 索引单元素：\n",
    "\n",
    "\n",
    "* 切片 columns：\n",
    "\n",
    "\n",
    "* 切片 index：\n",
    "\n",
    "\n",
    "* 切片 index 和 columns：\n",
    "    \n",
    "<font color='red'>**总体规律:**</font>\n",
    "\n",
    "* <font color='red'><b>基于标签就用 at 和 loc，基于位置就用 iat 和 iloc。</b></font>\n",
    "\n",
    "* <font color='red'><b>切片连续行或列用：，切片不连续行或列用[]</b></font>\n",
    "    \n",
    "下面我们来一类类分析：\n",
    "\n",
    "### 3.1 索引单元素\n",
    "\n",
    "两种方法来索引单元素，情况 1 基于标签 at，情况 2 基于位置 iat。\n",
    "\n",
    "* 情况 1 - df.at['idx_i', 'attr_j']\n",
    "\n",
    "* 情况 2 - df.iat[i, j]\n",
    "\n",
    "Python 里的中括号 [] 会代表很多意思，比如单元素索引，多元素切片，布尔索引等等，因此让 Python 猜你用的 [] 意图会很低效。如果你想索引单元素，明明白白的用 at 和 iat 效率最高。\n",
    "\n",
    "<font color=\"red\"><b>情况 1</b></font>"
   ]
  },
  {
   "cell_type": "code",
   "execution_count": null,
   "metadata": {},
   "outputs": [],
   "source": [
    "df.at['AAPL','价格']"
   ]
  },
  {
   "cell_type": "markdown",
   "metadata": {},
   "source": [
    "用 at 获取「行标签」为 'AAPL' 和「列标签」为 ‘价格’ 对应的元素。\n",
    "\n",
    "<font color=\"red\"><b>情况 2</b></font>"
   ]
  },
  {
   "cell_type": "code",
   "execution_count": null,
   "metadata": {},
   "outputs": [],
   "source": [
    "df.iat[2,1]"
   ]
  },
  {
   "cell_type": "markdown",
   "metadata": {},
   "source": [
    "用 iat 获取第 3 行第 2 列对应的元素。\n",
    "\n",
    "索引单元素的总结图：\n",
    "\n",
    "![](images/6-10.png)"
   ]
  },
  {
   "cell_type": "markdown",
   "metadata": {},
   "source": [
    "### 3.2 切片 columns\n",
    "\n",
    "#### 切片单个 columns\n",
    "\n",
    "切片单个 columns 会**返回一个 Series**，有以下两种情况。\n",
    "\n",
    "* 情况 1 - df.attr_i 或 df['attr_i']\n",
    "\n",
    "* 情况 2 - df.loc[:, 'attr_i'] 或 df.iloc[:, i]\n",
    "\n",
    "情况 1 df.attr_i记住就可以了，没什么可说的。df['attr_i'] 非常像二维 numpy 数组 arr 的切片。\n",
    "\n",
    "情况 2的 loc 和 iloc 可类比于上面的 at 和 iat。带 i 的基于位置 (位置用整数表示，i 也泛指整数)，不带 i 的基于标签。里面的冒号 : 代表所有的 index (和 numpy 数组里的冒号意思相同)。\n",
    "\n",
    "**个人建议，如果追求简洁和方便，用 . 和 []；如果追求一致和清晰，用 loc 和 iloc。**\n",
    "\n",
    "<font color=\"red\"><b>情况 1</b></font>"
   ]
  },
  {
   "cell_type": "code",
   "execution_count": null,
   "metadata": {},
   "outputs": [],
   "source": [
    "df.价格"
   ]
  },
  {
   "cell_type": "markdown",
   "metadata": {},
   "source": [
    "用 . 获取「价格」那一栏下的 Series。"
   ]
  },
  {
   "cell_type": "code",
   "execution_count": null,
   "metadata": {},
   "outputs": [],
   "source": [
    "df['价格']"
   ]
  },
  {
   "cell_type": "markdown",
   "metadata": {},
   "source": [
    "用 [] 获取「价格」属性下的 Series。\n",
    "\n",
    "<font color=\"red\"><b>情况 2</b></font>"
   ]
  },
  {
   "cell_type": "code",
   "execution_count": null,
   "metadata": {},
   "outputs": [],
   "source": [
    "df.loc[:, '交易量']"
   ]
  },
  {
   "cell_type": "markdown",
   "metadata": {},
   "source": [
    "**PS**：df.loc[:, '交易量']会**返回一个Series**，但df.loc[:, '交易量':'交易量']会**返回一个DataFrame**"
   ]
  },
  {
   "cell_type": "code",
   "execution_count": null,
   "metadata": {},
   "outputs": [],
   "source": [
    "df.loc[:, '交易量':'交易量']"
   ]
  },
  {
   "cell_type": "markdown",
   "metadata": {},
   "source": [
    "用 loc 获取「交易量」属性下的 Series。"
   ]
  },
  {
   "cell_type": "code",
   "execution_count": null,
   "metadata": {},
   "outputs": [],
   "source": [
    "df.iloc[:, 0]"
   ]
  },
  {
   "cell_type": "markdown",
   "metadata": {},
   "source": [
    "用 iloc 获取第 1 列下的 Series。\n",
    "\n",
    "切片单个 columns 的总结图：\n",
    "\n",
    "![](images/6-11.png)"
   ]
  },
  {
   "cell_type": "markdown",
   "metadata": {},
   "source": [
    "#### 切片多个 columns\n",
    "\n",
    "切片多个 columns 会返回一个 sub-DataFrame (原 DataFrame 的子集)，有以下两种情况。情况 1 切片不连续列，用中括号[]，类似一个列表；情况 2 切片连续列。\n",
    "\n",
    "* 情况 1 - df.loc[:, ['attr_i', 'attr_j']] 或 df.iloc[:, [i,j]]\n",
    "\n",
    "* 情况 2 - df.loc[:, 'attr_i':'attr_j'] 或 df.iloc[:, i:j]\n",
    "\n",
    "**切片连续列，用：，如df[:,'行业':'交易量']**\n",
    "\n",
    "**切片不连续列，用[]，类似一个列表，如df[:,['行业','交易量']]**\n",
    "\n",
    "<font color=\"red\"><b>情况 1：切片不连续列</b></font>"
   ]
  },
  {
   "cell_type": "code",
   "execution_count": null,
   "metadata": {},
   "outputs": [],
   "source": [
    "df.loc[:,['雇员', '价格'] ]"
   ]
  },
  {
   "cell_type": "code",
   "execution_count": null,
   "metadata": {},
   "outputs": [],
   "source": [
    "df.iloc[:,[3, 1] ]"
   ]
  },
  {
   "cell_type": "markdown",
   "metadata": {},
   "source": [
    "用 [] 获取「雇员」和「价格」两个属性下的 sub-DataFrame。\n",
    "\n",
    "<font color=\"red\"><b>情况 2：切片连续列</b></font>"
   ]
  },
  {
   "cell_type": "code",
   "execution_count": null,
   "metadata": {},
   "outputs": [],
   "source": [
    "df.loc[:, '行业':'交易量']"
   ]
  },
  {
   "cell_type": "markdown",
   "metadata": {},
   "source": [
    "用 loc 获取从属性 ‘行业’ 到 ‘交易量‘ 的 sub-DataFrame。"
   ]
  },
  {
   "cell_type": "code",
   "execution_count": null,
   "metadata": {},
   "outputs": [],
   "source": [
    "df.iloc[:, 0:2]"
   ]
  },
  {
   "cell_type": "markdown",
   "metadata": {},
   "source": [
    "用 iloc 获取第 1 和 2 列下的 sub-DataFrame。\n",
    "\n",
    "切片多个 columns 的总结图：\n",
    "\n",
    "![](images/6-12.png)"
   ]
  },
  {
   "cell_type": "markdown",
   "metadata": {},
   "source": [
    "### 3.3 切片 index\n",
    "\n",
    "#### 切片单个 index \n",
    "\n",
    "切片单个 index ，有以下两种情况。情况 1 基于标签 loc，情况 2 基于位置 iloc。\n",
    "\n",
    "* 情况 1 - df.loc['idx_i', :] 或 df.iloc[i, :]，会返回一个 Series\n",
    "\n",
    "* 情况 2 - df.loc['idx_i':'idx_i', :] 或 df.loc[i:i+1, :]，会返回一个只有一行的 DataFrame\n",
    "\n",
    "\n",
    "情况 1 ，带 i 的基于位置 (位置用整数表示，i 也泛指整数)，不带 i 的基于标签。里面的冒号 : 代表所有的 columns (和 numpy 数组里的冒号意思相同)。\n",
    "\n",
    "情况 2 ，标签没有前闭后开的性质。如果要获取标签 i，只需要用 'idx_i':'idx_i'。位置 i:i+1 有前闭后开的性质，需要用 i:i+1。\n",
    "\n",
    "\n",
    "<font color=\"red\"><b>情况 1</b></font>"
   ]
  },
  {
   "cell_type": "code",
   "execution_count": null,
   "metadata": {},
   "outputs": [],
   "source": [
    "df.loc[ 'GS', : ]"
   ]
  },
  {
   "cell_type": "markdown",
   "metadata": {},
   "source": [
    "用 loc 获取标签为 ‘GS‘ 的 Series。(GS = Goldman Sachs = 高盛)"
   ]
  },
  {
   "cell_type": "code",
   "execution_count": null,
   "metadata": {},
   "outputs": [],
   "source": [
    "df.iloc[ 3, : ]"
   ]
  },
  {
   "cell_type": "markdown",
   "metadata": {},
   "source": [
    "用 iloc 获取第 4 行下的 Series。(MS = Morgan Stanley = 摩根斯坦利)\n",
    "\n",
    "<font color=\"red\"><b>情况 2</b></font>"
   ]
  },
  {
   "cell_type": "code",
   "execution_count": null,
   "metadata": {},
   "outputs": [],
   "source": [
    "df.iloc[1:2,:]"
   ]
  },
  {
   "cell_type": "markdown",
   "metadata": {},
   "source": [
    "用 [1:2] 获取第 2 行的 sub-DataFrame (只有一行)。"
   ]
  },
  {
   "cell_type": "code",
   "execution_count": null,
   "metadata": {},
   "outputs": [],
   "source": [
    "df.loc['JD':'JD',:]"
   ]
  },
  {
   "cell_type": "markdown",
   "metadata": {},
   "source": [
    "用 ['JD':'JD'] 获取标签为 'JD' 的 sub-DataFrame (只有一行)。\n",
    "\n",
    "切片单个 index 的总结图：\n",
    "\n",
    "![](images/6-13.png)\n",
    "\n",
    "#### 切片多个 index\n",
    "\n",
    "切片多个 index 会返回一个 sub-DataFrame，基于标签用 loc，基于位置用 iloc。\n",
    "\n",
    "* 基于标签 - df.loc['idx_i':'idx_j', :]\n",
    "\n",
    "* 基于位置 - df.iloc[i:j, :]\n",
    "\n",
    "**基于标签**"
   ]
  },
  {
   "cell_type": "code",
   "execution_count": null,
   "metadata": {},
   "outputs": [],
   "source": [
    "df.loc[ 'MS':'GS', : ]"
   ]
  },
  {
   "cell_type": "markdown",
   "metadata": {},
   "source": [
    "用 loc 获取标签从 ‘MS‘ 到 'GS' 的 sub-DataFrame。注意 ‘MS’:’GS’ 要按着 index 里面元素的顺序，要不然会返回一个空的 DataFrame，比如："
   ]
  },
  {
   "cell_type": "code",
   "execution_count": null,
   "metadata": {},
   "outputs": [],
   "source": [
    "df.loc[ 'MS':'JD', : ]"
   ]
  },
  {
   "cell_type": "markdown",
   "metadata": {},
   "source": [
    "**基于位置**"
   ]
  },
  {
   "cell_type": "code",
   "execution_count": null,
   "metadata": {},
   "outputs": [],
   "source": [
    "df.iloc[ 1:3, : ]"
   ]
  },
  {
   "cell_type": "markdown",
   "metadata": {},
   "source": [
    "用 iloc 获取第 2 到 3 行的 sub-DataFrame。\n",
    "\n",
    "切片多个 index 的总结图：\n",
    "\n",
    "![](images/6-14.png)"
   ]
  },
  {
   "cell_type": "markdown",
   "metadata": {},
   "source": [
    "### 3.4 切片 index 和 columns\n",
    "\n",
    "切片多个 index 和 columns 会返回一个 sub-DataFrame， 基于标签用 loc，基于位置用 iloc。\n",
    "\n",
    "* 基于标签 - df.loc['idx_i':'idx_j', 'attr_k':'attr_l']\n",
    "\n",
    "* 基于位置 - df.iloc[i:j, k:l]\n",
    "\n",
    "**基于标签**"
   ]
  },
  {
   "cell_type": "code",
   "execution_count": null,
   "metadata": {},
   "outputs": [],
   "source": [
    "df.loc[ 'GS':'WMT', '价格': ]"
   ]
  },
  {
   "cell_type": "markdown",
   "metadata": {},
   "source": [
    "用 loc 获取行标签从 ‘GS‘ 到 'WMT'，列标签从'价格'到最后的 sub-DataFrame。\n",
    "\n",
    "**基于位置**"
   ]
  },
  {
   "cell_type": "code",
   "execution_count": null,
   "metadata": {},
   "outputs": [],
   "source": [
    "df.iloc[ :2, 1:3 ]"
   ]
  },
  {
   "cell_type": "markdown",
   "metadata": {},
   "source": [
    "用 iloc 获取第 1 到 2 行，第 1 到 2 列的 sub-DataFrame。\n",
    "\n",
    "切片 index 和 columns 的总结图：\n",
    "\n",
    "![](images/6-15.png)"
   ]
  },
  {
   "cell_type": "markdown",
   "metadata": {},
   "source": [
    "### 3.5 高级索引\n",
    "\n",
    "高级索引 (advanced indexing) 可以用布尔索引 (boolean indexing) 和调用函数 (callable function) 来实现，两种方法都返回一组“正确”的索引，而且可以和 loc , iloc , [] 一起套用，具体形式有以下常见几种：\n",
    "\n",
    "* df.loc[布尔索引, :] \n",
    "\n",
    "* df.iloc[布尔索引, :] \n",
    "\n",
    "* df.loc[调用函数, :]  \n",
    "\n",
    "* df.iloc[调用函数, :] \n",
    "\n",
    "还有以下罕见几种：\n",
    "\n",
    "* df.loc[:, 布尔索引] \n",
    "\n",
    "* df.iloc[:, 布尔索引] \n",
    "\n",
    "* df.loc[:, 调用函数]  \n",
    "\n",
    "* df.iloc[:, 调用函数] \n",
    "\n",
    "读者可以想一想为什么第一组形式「常见」而第二组形式「罕见」呢？(**Hint: 看看两组里冒号 : 在不同位置，再想想 DataFrame 每一行和每一列中数据的特点**)\n",
    "\n",
    "#### 布尔索引\n",
    "\n",
    "在〖数组计算之 NumPy (上)〗提过，布尔索引就是用一个由布尔类型值组成的数组来选择元素的方法。\n",
    "\n",
    "当我们要过滤掉雇员小于 100,000 人的公司，我们可以用 loc 加上布尔索引。"
   ]
  },
  {
   "cell_type": "code",
   "execution_count": null,
   "metadata": {},
   "outputs": [],
   "source": [
    "print( df.雇员 >= 100000 )\n",
    "df.loc[ df.雇员 >= 100000, : ]"
   ]
  },
  {
   "cell_type": "markdown",
   "metadata": {},
   "source": [
    "现在来看一个「罕见」例子，假如我们想找到所有值为整数型的 columns"
   ]
  },
  {
   "cell_type": "code",
   "execution_count": null,
   "metadata": {},
   "outputs": [],
   "source": [
    "print( df.dtypes == 'int64' )\n",
    "df.loc[ :, df.dtypes == 'int64' ]"
   ]
  },
  {
   "cell_type": "markdown",
   "metadata": {},
   "source": [
    "#### 调用函数\n",
    "\n",
    "调用函数是只能有一个参数 (DataFrame, Series) 并返回一组索引的函数。因为调用函数定义在 loc , iloc , [] 里面，因此它就像在〖Python编程基础〗提过的匿名函数。\n",
    "\n",
    "当我们要找出交易量大于平均交易量的所有公司，我们可以用 loc 加上匿名函数 (这里 x 代表 df)。"
   ]
  },
  {
   "cell_type": "code",
   "execution_count": null,
   "metadata": {},
   "outputs": [],
   "source": [
    "df.loc[ lambda x: x.交易量 > x.交易量.mean() , : ]"
   ]
  },
  {
   "cell_type": "markdown",
   "metadata": {},
   "source": [
    "在上面基础上再加一个条件 -- 价格要在 100 之上 (这里 x 还是代表 df)"
   ]
  },
  {
   "cell_type": "code",
   "execution_count": null,
   "metadata": {},
   "outputs": [],
   "source": [
    "df.loc[ lambda x: (x.交易量 > x.交易量.mean()) \n",
    "                & (x.价格 > 100), : ]"
   ]
  },
  {
   "cell_type": "markdown",
   "metadata": {},
   "source": [
    "最后来看看价格大于 100 的股票 (注意这里 x 代表 df.价格)"
   ]
  },
  {
   "cell_type": "code",
   "execution_count": null,
   "metadata": {},
   "outputs": [],
   "source": [
    "df.价格.loc[ lambda x: x > 100 ]"
   ]
  },
  {
   "cell_type": "markdown",
   "metadata": {},
   "source": [
    "## 4 Pandas的apply函数(Mc补充)\n",
    "\n",
    "apply 函数是 pandas 里面所有函数中自由度最高的函数。pandas 的 apply() 函数可以作用于 Series 或者整个 DataFrame，功能是**自动遍历整个 Series 或者 DataFrame, 对每一个元素运行指定的函数**。"
   ]
  },
  {
   "cell_type": "code",
   "execution_count": null,
   "metadata": {},
   "outputs": [],
   "source": [
    "data = {'Code': ['BABA', '00700.HK', 'AAPL', '600519.SH'],\n",
    "        'Name': ['阿里巴巴', '腾讯科技', '苹果公司', '茅台酒业'],\n",
    "        'Market': ['US', 'HK', 'US', 'SH'],\n",
    "        'Price': [185.35, 380.2, 197, 900.2],\n",
    "        'Currency': ['USD', 'HKD', 'USD', 'CNY']}\n",
    "df = pd.DataFrame(data)\n",
    "df"
   ]
  },
  {
   "cell_type": "markdown",
   "metadata": {},
   "source": [
    "**将 Name 一栏统一改为简称**"
   ]
  },
  {
   "cell_type": "code",
   "execution_count": null,
   "metadata": {},
   "outputs": [],
   "source": [
    "df['Name'] = df['Name'].apply(lambda x: x[0:2])\n",
    "df"
   ]
  },
  {
   "cell_type": "markdown",
   "metadata": {},
   "source": [
    "\n",
    "## 5 总结\n",
    "\n",
    "Pandas 里面的数据结构是多维数据表，细化为一维的 Series，二维的 DataFrame。\n",
    "\n",
    "<b><font color=\"red\">pd 多维数据表 </font>= <font color=\"blue\">np 多维数组</font> + <font color=\"green\">描述</font></b>\n",
    "\n",
    "其中\n",
    "<b>\n",
    "* <font color=\"red\">Series</font> = <font color=\"blue\">1darray</font> + <font color=\"green\">index</font>\n",
    "\n",
    "* <font color=\"red\">DataFrame</font> = <font color=\"blue\">2darray</font> + <font color=\"green\">index</font> + <font color=\"green\">columns</font>\n",
    "</b>\n",
    "\n",
    "pd 多维数据表和 np 多维数组之间的类比关系如下图所示。\n",
    "\n",
    "![](images/6-1.png)\n",
    "\n",
    "【创建数据表】创建 Series, DataFrame 用下面语句\n",
    "\n",
    "* pd.Series(x, index=idx)\n",
    "\n",
    "* pd.DataFrame(x, index=idx, columns=col)\n",
    "\n",
    "DataFrame 由多个 Series 组成，而 Series 非常类似于一维的 DataFrame，因此学 Pandas 把注意力放在 DataFrame 上即可。\n",
    "\n",
    "【索引和切片数据表】在索引或切片 DataFrame，有很多种方法。最好记的而不易出错的是用基于位置的 at 和 loc，和基于标签的 iat 和 iloc，具体来说，索引用 at 和 iat，切片用 loc 和 iloc。带 i 的基于位置，不带 i 的基于标签。\n",
    "\n",
    "![](images/DataFrame.png)\n",
    "\n",
    "\n",
    "\n",
    "### <font color = 'red'>总体规律</font>\n",
    "\n",
    "**<font color = 'red'>基于标签就用 at 和 loc，基于位置就用 iat 和 iloc。</font>**\n",
    "\n",
    "**<font color = 'red'>切片连续行或列，用：**，如df[:,'行业':'交易量']</font>\n",
    "\n",
    "**<font color = 'red'>切片不连续行或列，用[]，**如df[:,['行业','交易量']]</font>\n",
    "\n",
    "下篇讨论 Pandas 系列的后三节，分别是\n",
    "\n",
    "* 「数据表的合并和连接」\n",
    "\n",
    "* 「数据表的重塑和透视」\n",
    "\n",
    "* 「数据表的分组和整合」\n",
    "\n",
    "Stay Tuned!"
   ]
  },
  {
   "cell_type": "markdown",
   "metadata": {},
   "source": [
    "![结束](./images/end.png)"
   ]
  }
 ],
 "metadata": {
  "kernelspec": {
   "display_name": "Python 3",
   "language": "python",
   "name": "python3"
  },
  "language_info": {
   "codemirror_mode": {
    "name": "ipython",
    "version": 3
   },
   "file_extension": ".py",
   "mimetype": "text/x-python",
   "name": "python",
   "nbconvert_exporter": "python",
   "pygments_lexer": "ipython3",
   "version": "3.7.3"
  },
  "toc": {
   "base_numbering": 1,
   "nav_menu": {},
   "number_sections": true,
   "sideBar": true,
   "skip_h1_title": false,
   "title_cell": "Table of Contents",
   "title_sidebar": "Contents",
   "toc_cell": false,
   "toc_position": {},
   "toc_section_display": true,
   "toc_window_display": false
  }
 },
 "nbformat": 4,
 "nbformat_minor": 2
}
